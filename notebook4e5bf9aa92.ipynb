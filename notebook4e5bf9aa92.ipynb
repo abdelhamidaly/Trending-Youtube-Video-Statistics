{
 "cells": [
  {
   "cell_type": "code",
   "execution_count": 1,
   "id": "69fec1d0",
   "metadata": {
    "_cell_guid": "b1076dfc-b9ad-4769-8c92-a6c4dae69d19",
    "_uuid": "8f2839f25d086af736a60e9eeb907d3b93b6e0e5",
    "execution": {
     "iopub.execute_input": "2022-09-09T19:45:29.547267Z",
     "iopub.status.busy": "2022-09-09T19:45:29.546345Z",
     "iopub.status.idle": "2022-09-09T19:45:29.582360Z",
     "shell.execute_reply": "2022-09-09T19:45:29.581028Z"
    },
    "papermill": {
     "duration": 0.046784,
     "end_time": "2022-09-09T19:45:29.584863",
     "exception": false,
     "start_time": "2022-09-09T19:45:29.538079",
     "status": "completed"
    },
    "tags": []
   },
   "outputs": [
    {
     "name": "stdout",
     "output_type": "stream",
     "text": [
      "/kaggle/input/youtube-new/GBvideos.csv\n",
      "/kaggle/input/youtube-new/MXvideos.csv\n",
      "/kaggle/input/youtube-new/KRvideos.csv\n",
      "/kaggle/input/youtube-new/MX_category_id.json\n",
      "/kaggle/input/youtube-new/GB_category_id.json\n",
      "/kaggle/input/youtube-new/US_category_id.json\n",
      "/kaggle/input/youtube-new/IN_category_id.json\n",
      "/kaggle/input/youtube-new/DEvideos.csv\n",
      "/kaggle/input/youtube-new/KR_category_id.json\n",
      "/kaggle/input/youtube-new/RU_category_id.json\n",
      "/kaggle/input/youtube-new/FRvideos.csv\n",
      "/kaggle/input/youtube-new/USvideos.csv\n",
      "/kaggle/input/youtube-new/INvideos.csv\n",
      "/kaggle/input/youtube-new/RUvideos.csv\n",
      "/kaggle/input/youtube-new/CA_category_id.json\n",
      "/kaggle/input/youtube-new/DE_category_id.json\n",
      "/kaggle/input/youtube-new/JP_category_id.json\n",
      "/kaggle/input/youtube-new/JPvideos.csv\n",
      "/kaggle/input/youtube-new/FR_category_id.json\n",
      "/kaggle/input/youtube-new/CAvideos.csv\n"
     ]
    }
   ],
   "source": [
    "# This Python 3 environment comes with many helpful analytics libraries installed\n",
    "# It is defined by the kaggle/python Docker image: https://github.com/kaggle/docker-python\n",
    "# For example, here's several helpful packages to load\n",
    "\n",
    "import numpy as np # linear algebra\n",
    "import pandas as pd # data processing, CSV file I/O (e.g. pd.read_csv)\n",
    "\n",
    "# Input data files are available in the read-only \"../input/\" directory\n",
    "# For example, running this (by clicking run or pressing Shift+Enter) will list all files under the input directory\n",
    "\n",
    "import os\n",
    "for dirname, _, filenames in os.walk('/kaggle/input'):\n",
    "    for filename in filenames:\n",
    "        print(os.path.join(dirname, filename))\n",
    "\n",
    "# You can write up to 20GB to the current directory (/kaggle/working/) that gets preserved as output when you create a version using \"Save & Run All\" \n",
    "# You can also write temporary files to /kaggle/temp/, but they won't be saved outside of the current session"
   ]
  },
  {
   "cell_type": "code",
   "execution_count": 2,
   "id": "b32dd616",
   "metadata": {
    "execution": {
     "iopub.execute_input": "2022-09-09T19:45:29.598619Z",
     "iopub.status.busy": "2022-09-09T19:45:29.597975Z",
     "iopub.status.idle": "2022-09-09T19:45:30.590370Z",
     "shell.execute_reply": "2022-09-09T19:45:30.589429Z"
    },
    "papermill": {
     "duration": 1.00164,
     "end_time": "2022-09-09T19:45:30.593023",
     "exception": false,
     "start_time": "2022-09-09T19:45:29.591383",
     "status": "completed"
    },
    "tags": []
   },
   "outputs": [],
   "source": [
    "import numpy as np\n",
    "import re\n",
    "import pandas as pd\n",
    "import matplotlib.pyplot as plt\n",
    "%matplotlib inline\n",
    "import seaborn as sns\n",
    "from matplotlib import cm\n",
    "from datetime import datetime\n",
    "import glob\n",
    "import os\n",
    "import json\n",
    "import pickle\n",
    "import six\n",
    "sns.set()\n",
    "pd.set_option('display.max_columns', None)\n",
    "pd.set_option('display.max_rows', None)\n",
    "pd.options.mode.chained_assignment = None\n",
    "os.chdir(\"../input/youtube-new\")"
   ]
  },
  {
   "cell_type": "code",
   "execution_count": 3,
   "id": "b5f14317",
   "metadata": {
    "execution": {
     "iopub.execute_input": "2022-09-09T19:45:30.605320Z",
     "iopub.status.busy": "2022-09-09T19:45:30.604507Z",
     "iopub.status.idle": "2022-09-09T19:45:30.615416Z",
     "shell.execute_reply": "2022-09-09T19:45:30.614562Z"
    },
    "papermill": {
     "duration": 0.019221,
     "end_time": "2022-09-09T19:45:30.617543",
     "exception": false,
     "start_time": "2022-09-09T19:45:30.598322",
     "status": "completed"
    },
    "tags": []
   },
   "outputs": [
    {
     "data": {
      "text/plain": [
       "['GBvideos.csv',\n",
       " 'MXvideos.csv',\n",
       " 'KRvideos.csv',\n",
       " 'DEvideos.csv',\n",
       " 'FRvideos.csv',\n",
       " 'USvideos.csv',\n",
       " 'INvideos.csv',\n",
       " 'RUvideos.csv',\n",
       " 'JPvideos.csv',\n",
       " 'CAvideos.csv']"
      ]
     },
     "execution_count": 3,
     "metadata": {},
     "output_type": "execute_result"
    }
   ],
   "source": [
    "#path=(\"../input/youtube-new\")\n",
    "#allcsv= glob.glob(path + \"/*.csv\")\n",
    "all_csv=[i for i in glob.glob(\"*.{}\".format(\"csv\"))]\n",
    "all_csv"
   ]
  },
  {
   "cell_type": "code",
   "execution_count": 4,
   "id": "e1b8768f",
   "metadata": {
    "execution": {
     "iopub.execute_input": "2022-09-09T19:45:30.629215Z",
     "iopub.status.busy": "2022-09-09T19:45:30.628884Z",
     "iopub.status.idle": "2022-09-09T19:45:46.026449Z",
     "shell.execute_reply": "2022-09-09T19:45:46.025276Z"
    },
    "papermill": {
     "duration": 15.406073,
     "end_time": "2022-09-09T19:45:46.028869",
     "exception": false,
     "start_time": "2022-09-09T19:45:30.622796",
     "status": "completed"
    },
    "tags": []
   },
   "outputs": [
    {
     "data": {
      "text/html": [
       "<div>\n",
       "<style scoped>\n",
       "    .dataframe tbody tr th:only-of-type {\n",
       "        vertical-align: middle;\n",
       "    }\n",
       "\n",
       "    .dataframe tbody tr th {\n",
       "        vertical-align: top;\n",
       "    }\n",
       "\n",
       "    .dataframe thead th {\n",
       "        text-align: right;\n",
       "    }\n",
       "</style>\n",
       "<table border=\"1\" class=\"dataframe\">\n",
       "  <thead>\n",
       "    <tr style=\"text-align: right;\">\n",
       "      <th></th>\n",
       "      <th>video_id</th>\n",
       "      <th>trending_date</th>\n",
       "      <th>title</th>\n",
       "      <th>channel_title</th>\n",
       "      <th>category_id</th>\n",
       "      <th>publish_time</th>\n",
       "      <th>tags</th>\n",
       "      <th>views</th>\n",
       "      <th>likes</th>\n",
       "      <th>dislikes</th>\n",
       "      <th>comment_count</th>\n",
       "      <th>thumbnail_link</th>\n",
       "      <th>comments_disabled</th>\n",
       "      <th>ratings_disabled</th>\n",
       "      <th>video_error_or_removed</th>\n",
       "      <th>description</th>\n",
       "      <th>country</th>\n",
       "    </tr>\n",
       "  </thead>\n",
       "  <tbody>\n",
       "    <tr>\n",
       "      <th>0</th>\n",
       "      <td>Jw1Y-zhQURU</td>\n",
       "      <td>17.14.11</td>\n",
       "      <td>John Lewis Christmas Ad 2017 - #MozTheMonster</td>\n",
       "      <td>John Lewis</td>\n",
       "      <td>26</td>\n",
       "      <td>2017-11-10T07:38:29.000Z</td>\n",
       "      <td>christmas|\"john lewis christmas\"|\"john lewis\"|...</td>\n",
       "      <td>7224515</td>\n",
       "      <td>55681</td>\n",
       "      <td>10247</td>\n",
       "      <td>9479</td>\n",
       "      <td>https://i.ytimg.com/vi/Jw1Y-zhQURU/default.jpg</td>\n",
       "      <td>False</td>\n",
       "      <td>False</td>\n",
       "      <td>False</td>\n",
       "      <td>Click here to continue the story and make your...</td>\n",
       "      <td>GB</td>\n",
       "    </tr>\n",
       "    <tr>\n",
       "      <th>1</th>\n",
       "      <td>3s1rvMFUweQ</td>\n",
       "      <td>17.14.11</td>\n",
       "      <td>Taylor Swift: â¦Ready for It? (Live) - SNL</td>\n",
       "      <td>Saturday Night Live</td>\n",
       "      <td>24</td>\n",
       "      <td>2017-11-12T06:24:44.000Z</td>\n",
       "      <td>SNL|\"Saturday Night Live\"|\"SNL Season 43\"|\"Epi...</td>\n",
       "      <td>1053632</td>\n",
       "      <td>25561</td>\n",
       "      <td>2294</td>\n",
       "      <td>2757</td>\n",
       "      <td>https://i.ytimg.com/vi/3s1rvMFUweQ/default.jpg</td>\n",
       "      <td>False</td>\n",
       "      <td>False</td>\n",
       "      <td>False</td>\n",
       "      <td>Musical guest Taylor Swift performs â¦Ready f...</td>\n",
       "      <td>GB</td>\n",
       "    </tr>\n",
       "    <tr>\n",
       "      <th>2</th>\n",
       "      <td>n1WpP7iowLc</td>\n",
       "      <td>17.14.11</td>\n",
       "      <td>Eminem - Walk On Water (Audio) ft. BeyoncÃ©</td>\n",
       "      <td>EminemVEVO</td>\n",
       "      <td>10</td>\n",
       "      <td>2017-11-10T17:00:03.000Z</td>\n",
       "      <td>Eminem|\"Walk\"|\"On\"|\"Water\"|\"Aftermath/Shady/In...</td>\n",
       "      <td>17158579</td>\n",
       "      <td>787420</td>\n",
       "      <td>43420</td>\n",
       "      <td>125882</td>\n",
       "      <td>https://i.ytimg.com/vi/n1WpP7iowLc/default.jpg</td>\n",
       "      <td>False</td>\n",
       "      <td>False</td>\n",
       "      <td>False</td>\n",
       "      <td>Eminem's new track Walk on Water ft. BeyoncÃ© ...</td>\n",
       "      <td>GB</td>\n",
       "    </tr>\n",
       "    <tr>\n",
       "      <th>3</th>\n",
       "      <td>PUTEiSjKwJU</td>\n",
       "      <td>17.14.11</td>\n",
       "      <td>Goals from Salford City vs Class of 92 and Fri...</td>\n",
       "      <td>Salford City Football Club</td>\n",
       "      <td>17</td>\n",
       "      <td>2017-11-13T02:30:38.000Z</td>\n",
       "      <td>Salford City FC|\"Salford City\"|\"Salford\"|\"Clas...</td>\n",
       "      <td>27833</td>\n",
       "      <td>193</td>\n",
       "      <td>12</td>\n",
       "      <td>37</td>\n",
       "      <td>https://i.ytimg.com/vi/PUTEiSjKwJU/default.jpg</td>\n",
       "      <td>False</td>\n",
       "      <td>False</td>\n",
       "      <td>False</td>\n",
       "      <td>Salford drew 4-4 against the Class of 92 and F...</td>\n",
       "      <td>GB</td>\n",
       "    </tr>\n",
       "    <tr>\n",
       "      <th>4</th>\n",
       "      <td>rHwDegptbI4</td>\n",
       "      <td>17.14.11</td>\n",
       "      <td>Dashcam captures truck's near miss with child ...</td>\n",
       "      <td>Cute Girl Videos</td>\n",
       "      <td>25</td>\n",
       "      <td>2017-11-13T01:45:13.000Z</td>\n",
       "      <td>[none]</td>\n",
       "      <td>9815</td>\n",
       "      <td>30</td>\n",
       "      <td>2</td>\n",
       "      <td>30</td>\n",
       "      <td>https://i.ytimg.com/vi/rHwDegptbI4/default.jpg</td>\n",
       "      <td>False</td>\n",
       "      <td>False</td>\n",
       "      <td>False</td>\n",
       "      <td>Dashcam captures truck's near miss with child ...</td>\n",
       "      <td>GB</td>\n",
       "    </tr>\n",
       "  </tbody>\n",
       "</table>\n",
       "</div>"
      ],
      "text/plain": [
       "      video_id trending_date  \\\n",
       "0  Jw1Y-zhQURU      17.14.11   \n",
       "1  3s1rvMFUweQ      17.14.11   \n",
       "2  n1WpP7iowLc      17.14.11   \n",
       "3  PUTEiSjKwJU      17.14.11   \n",
       "4  rHwDegptbI4      17.14.11   \n",
       "\n",
       "                                               title  \\\n",
       "0      John Lewis Christmas Ad 2017 - #MozTheMonster   \n",
       "1        Taylor Swift: â¦Ready for It? (Live) - SNL   \n",
       "2        Eminem - Walk On Water (Audio) ft. BeyoncÃ©   \n",
       "3  Goals from Salford City vs Class of 92 and Fri...   \n",
       "4  Dashcam captures truck's near miss with child ...   \n",
       "\n",
       "                channel_title  category_id              publish_time  \\\n",
       "0                  John Lewis           26  2017-11-10T07:38:29.000Z   \n",
       "1         Saturday Night Live           24  2017-11-12T06:24:44.000Z   \n",
       "2                  EminemVEVO           10  2017-11-10T17:00:03.000Z   \n",
       "3  Salford City Football Club           17  2017-11-13T02:30:38.000Z   \n",
       "4            Cute Girl Videos           25  2017-11-13T01:45:13.000Z   \n",
       "\n",
       "                                                tags     views   likes  \\\n",
       "0  christmas|\"john lewis christmas\"|\"john lewis\"|...   7224515   55681   \n",
       "1  SNL|\"Saturday Night Live\"|\"SNL Season 43\"|\"Epi...   1053632   25561   \n",
       "2  Eminem|\"Walk\"|\"On\"|\"Water\"|\"Aftermath/Shady/In...  17158579  787420   \n",
       "3  Salford City FC|\"Salford City\"|\"Salford\"|\"Clas...     27833     193   \n",
       "4                                             [none]      9815      30   \n",
       "\n",
       "   dislikes  comment_count                                  thumbnail_link  \\\n",
       "0     10247           9479  https://i.ytimg.com/vi/Jw1Y-zhQURU/default.jpg   \n",
       "1      2294           2757  https://i.ytimg.com/vi/3s1rvMFUweQ/default.jpg   \n",
       "2     43420         125882  https://i.ytimg.com/vi/n1WpP7iowLc/default.jpg   \n",
       "3        12             37  https://i.ytimg.com/vi/PUTEiSjKwJU/default.jpg   \n",
       "4         2             30  https://i.ytimg.com/vi/rHwDegptbI4/default.jpg   \n",
       "\n",
       "   comments_disabled  ratings_disabled  video_error_or_removed  \\\n",
       "0              False             False                   False   \n",
       "1              False             False                   False   \n",
       "2              False             False                   False   \n",
       "3              False             False                   False   \n",
       "4              False             False                   False   \n",
       "\n",
       "                                         description country  \n",
       "0  Click here to continue the story and make your...      GB  \n",
       "1  Musical guest Taylor Swift performs â¦Ready f...      GB  \n",
       "2  Eminem's new track Walk on Water ft. BeyoncÃ© ...      GB  \n",
       "3  Salford drew 4-4 against the Class of 92 and F...      GB  \n",
       "4  Dashcam captures truck's near miss with child ...      GB  "
      ]
     },
     "execution_count": 4,
     "metadata": {},
     "output_type": "execute_result"
    }
   ],
   "source": [
    "all_dfs=[]\n",
    "for i in all_csv:\n",
    "    df=pd.read_csv(i,index_col=None ,encoding='ISO-8859-1')\n",
    "    df['country']=i[0:2] \n",
    "    all_dfs.append(df)\n",
    "all_dfs[0].head()"
   ]
  },
  {
   "cell_type": "code",
   "execution_count": 5,
   "id": "bb105e5e",
   "metadata": {
    "execution": {
     "iopub.execute_input": "2022-09-09T19:45:46.043381Z",
     "iopub.status.busy": "2022-09-09T19:45:46.042188Z",
     "iopub.status.idle": "2022-09-09T19:45:46.209606Z",
     "shell.execute_reply": "2022-09-09T19:45:46.208577Z"
    },
    "papermill": {
     "duration": 0.177109,
     "end_time": "2022-09-09T19:45:46.212315",
     "exception": false,
     "start_time": "2022-09-09T19:45:46.035206",
     "status": "completed"
    },
    "tags": []
   },
   "outputs": [
    {
     "data": {
      "text/plain": [
       "0    17.14.11\n",
       "1    17.14.11\n",
       "2    17.14.11\n",
       "3    17.14.11\n",
       "4    17.14.11\n",
       "Name: trending_date, dtype: object"
      ]
     },
     "execution_count": 5,
     "metadata": {},
     "output_type": "execute_result"
    }
   ],
   "source": [
    "data_frame=pd.DataFrame()\n",
    "data_frame=pd.concat(all_dfs)\n",
    "data_frame['trending_date'].head()"
   ]
  },
  {
   "cell_type": "code",
   "execution_count": 6,
   "id": "4be731ad",
   "metadata": {
    "execution": {
     "iopub.execute_input": "2022-09-09T19:45:46.225546Z",
     "iopub.status.busy": "2022-09-09T19:45:46.224803Z",
     "iopub.status.idle": "2022-09-09T19:45:46.262692Z",
     "shell.execute_reply": "2022-09-09T19:45:46.261654Z"
    },
    "papermill": {
     "duration": 0.047474,
     "end_time": "2022-09-09T19:45:46.265681",
     "exception": false,
     "start_time": "2022-09-09T19:45:46.218207",
     "status": "completed"
    },
    "tags": []
   },
   "outputs": [
    {
     "data": {
      "text/plain": [
       "count    375942.000000\n",
       "mean       1020.232302\n",
       "std           7.132413\n",
       "min        1001.000000\n",
       "25%        1017.000000\n",
       "50%        1023.000000\n",
       "75%        1024.000000\n",
       "max        1044.000000\n",
       "Name: category_id, dtype: float64"
      ]
     },
     "execution_count": 6,
     "metadata": {},
     "output_type": "execute_result"
    }
   ],
   "source": [
    "data_frame['category_id']=data_frame['category_id']+1000\n",
    "data_frame['category_id'].describe()"
   ]
  },
  {
   "cell_type": "markdown",
   "id": "59dbb716",
   "metadata": {
    "papermill": {
     "duration": 0.005922,
     "end_time": "2022-09-09T19:45:46.277749",
     "exception": false,
     "start_time": "2022-09-09T19:45:46.271827",
     "status": "completed"
    },
    "tags": []
   },
   "source": []
  },
  {
   "cell_type": "code",
   "execution_count": 7,
   "id": "32e38e90",
   "metadata": {
    "execution": {
     "iopub.execute_input": "2022-09-09T19:45:46.292170Z",
     "iopub.status.busy": "2022-09-09T19:45:46.291075Z",
     "iopub.status.idle": "2022-09-09T19:45:46.322777Z",
     "shell.execute_reply": "2022-09-09T19:45:46.321925Z"
    },
    "papermill": {
     "duration": 0.04124,
     "end_time": "2022-09-09T19:45:46.325036",
     "exception": false,
     "start_time": "2022-09-09T19:45:46.283796",
     "status": "completed"
    },
    "tags": []
   },
   "outputs": [
    {
     "data": {
      "text/plain": [
       "dtype('O')"
      ]
     },
     "execution_count": 7,
     "metadata": {},
     "output_type": "execute_result"
    }
   ],
   "source": [
    "data_frame['video_id']= data_frame['video_id'].astype('str')\n",
    "data_frame['trending_date'].dtype"
   ]
  },
  {
   "cell_type": "code",
   "execution_count": 8,
   "id": "6b211cce",
   "metadata": {
    "execution": {
     "iopub.execute_input": "2022-09-09T19:45:46.338819Z",
     "iopub.status.busy": "2022-09-09T19:45:46.338109Z",
     "iopub.status.idle": "2022-09-09T19:45:46.346195Z",
     "shell.execute_reply": "2022-09-09T19:45:46.345372Z"
    },
    "papermill": {
     "duration": 0.017299,
     "end_time": "2022-09-09T19:45:46.348352",
     "exception": false,
     "start_time": "2022-09-09T19:45:46.331053",
     "status": "completed"
    },
    "tags": []
   },
   "outputs": [
    {
     "data": {
      "text/plain": [
       "0    17.14.11\n",
       "1    17.14.11\n",
       "2    17.14.11\n",
       "3    17.14.11\n",
       "4    17.14.11\n",
       "Name: trending_date, dtype: object"
      ]
     },
     "execution_count": 8,
     "metadata": {},
     "output_type": "execute_result"
    }
   ],
   "source": [
    "data_frame['trending_date'].head()"
   ]
  },
  {
   "cell_type": "code",
   "execution_count": 9,
   "id": "430f96b0",
   "metadata": {
    "execution": {
     "iopub.execute_input": "2022-09-09T19:45:46.362318Z",
     "iopub.status.busy": "2022-09-09T19:45:46.361637Z",
     "iopub.status.idle": "2022-09-09T19:45:48.087438Z",
     "shell.execute_reply": "2022-09-09T19:45:48.086283Z"
    },
    "papermill": {
     "duration": 1.735432,
     "end_time": "2022-09-09T19:45:48.089763",
     "exception": false,
     "start_time": "2022-09-09T19:45:46.354331",
     "status": "completed"
    },
    "tags": []
   },
   "outputs": [
    {
     "data": {
      "text/html": [
       "<div>\n",
       "<style scoped>\n",
       "    .dataframe tbody tr th:only-of-type {\n",
       "        vertical-align: middle;\n",
       "    }\n",
       "\n",
       "    .dataframe tbody tr th {\n",
       "        vertical-align: top;\n",
       "    }\n",
       "\n",
       "    .dataframe thead th {\n",
       "        text-align: right;\n",
       "    }\n",
       "</style>\n",
       "<table border=\"1\" class=\"dataframe\">\n",
       "  <thead>\n",
       "    <tr style=\"text-align: right;\">\n",
       "      <th></th>\n",
       "      <th>video_id</th>\n",
       "      <th>title</th>\n",
       "      <th>channel_title</th>\n",
       "      <th>category_id</th>\n",
       "      <th>publish_time</th>\n",
       "      <th>tags</th>\n",
       "      <th>views</th>\n",
       "      <th>likes</th>\n",
       "      <th>dislikes</th>\n",
       "      <th>comment_count</th>\n",
       "      <th>thumbnail_link</th>\n",
       "      <th>comments_disabled</th>\n",
       "      <th>ratings_disabled</th>\n",
       "      <th>video_error_or_removed</th>\n",
       "      <th>description</th>\n",
       "      <th>country</th>\n",
       "      <th>trending_date</th>\n",
       "    </tr>\n",
       "  </thead>\n",
       "  <tbody>\n",
       "    <tr>\n",
       "      <th>0</th>\n",
       "      <td>Jw1Y-zhQURU</td>\n",
       "      <td>John Lewis Christmas Ad 2017 - #MozTheMonster</td>\n",
       "      <td>John Lewis</td>\n",
       "      <td>1026</td>\n",
       "      <td>2017-11-10T07:38:29.000Z</td>\n",
       "      <td>christmas|\"john lewis christmas\"|\"john lewis\"|...</td>\n",
       "      <td>7224515</td>\n",
       "      <td>55681</td>\n",
       "      <td>10247</td>\n",
       "      <td>9479</td>\n",
       "      <td>https://i.ytimg.com/vi/Jw1Y-zhQURU/default.jpg</td>\n",
       "      <td>False</td>\n",
       "      <td>False</td>\n",
       "      <td>False</td>\n",
       "      <td>Click here to continue the story and make your...</td>\n",
       "      <td>GB</td>\n",
       "      <td>2017-11-14</td>\n",
       "    </tr>\n",
       "    <tr>\n",
       "      <th>1</th>\n",
       "      <td>3s1rvMFUweQ</td>\n",
       "      <td>Taylor Swift: â¦Ready for It? (Live) - SNL</td>\n",
       "      <td>Saturday Night Live</td>\n",
       "      <td>1024</td>\n",
       "      <td>2017-11-12T06:24:44.000Z</td>\n",
       "      <td>SNL|\"Saturday Night Live\"|\"SNL Season 43\"|\"Epi...</td>\n",
       "      <td>1053632</td>\n",
       "      <td>25561</td>\n",
       "      <td>2294</td>\n",
       "      <td>2757</td>\n",
       "      <td>https://i.ytimg.com/vi/3s1rvMFUweQ/default.jpg</td>\n",
       "      <td>False</td>\n",
       "      <td>False</td>\n",
       "      <td>False</td>\n",
       "      <td>Musical guest Taylor Swift performs â¦Ready f...</td>\n",
       "      <td>GB</td>\n",
       "      <td>2017-11-14</td>\n",
       "    </tr>\n",
       "    <tr>\n",
       "      <th>2</th>\n",
       "      <td>n1WpP7iowLc</td>\n",
       "      <td>Eminem - Walk On Water (Audio) ft. BeyoncÃ©</td>\n",
       "      <td>EminemVEVO</td>\n",
       "      <td>1010</td>\n",
       "      <td>2017-11-10T17:00:03.000Z</td>\n",
       "      <td>Eminem|\"Walk\"|\"On\"|\"Water\"|\"Aftermath/Shady/In...</td>\n",
       "      <td>17158579</td>\n",
       "      <td>787420</td>\n",
       "      <td>43420</td>\n",
       "      <td>125882</td>\n",
       "      <td>https://i.ytimg.com/vi/n1WpP7iowLc/default.jpg</td>\n",
       "      <td>False</td>\n",
       "      <td>False</td>\n",
       "      <td>False</td>\n",
       "      <td>Eminem's new track Walk on Water ft. BeyoncÃ© ...</td>\n",
       "      <td>GB</td>\n",
       "      <td>2017-11-14</td>\n",
       "    </tr>\n",
       "    <tr>\n",
       "      <th>3</th>\n",
       "      <td>PUTEiSjKwJU</td>\n",
       "      <td>Goals from Salford City vs Class of 92 and Fri...</td>\n",
       "      <td>Salford City Football Club</td>\n",
       "      <td>1017</td>\n",
       "      <td>2017-11-13T02:30:38.000Z</td>\n",
       "      <td>Salford City FC|\"Salford City\"|\"Salford\"|\"Clas...</td>\n",
       "      <td>27833</td>\n",
       "      <td>193</td>\n",
       "      <td>12</td>\n",
       "      <td>37</td>\n",
       "      <td>https://i.ytimg.com/vi/PUTEiSjKwJU/default.jpg</td>\n",
       "      <td>False</td>\n",
       "      <td>False</td>\n",
       "      <td>False</td>\n",
       "      <td>Salford drew 4-4 against the Class of 92 and F...</td>\n",
       "      <td>GB</td>\n",
       "      <td>2017-11-14</td>\n",
       "    </tr>\n",
       "    <tr>\n",
       "      <th>4</th>\n",
       "      <td>rHwDegptbI4</td>\n",
       "      <td>Dashcam captures truck's near miss with child ...</td>\n",
       "      <td>Cute Girl Videos</td>\n",
       "      <td>1025</td>\n",
       "      <td>2017-11-13T01:45:13.000Z</td>\n",
       "      <td>[none]</td>\n",
       "      <td>9815</td>\n",
       "      <td>30</td>\n",
       "      <td>2</td>\n",
       "      <td>30</td>\n",
       "      <td>https://i.ytimg.com/vi/rHwDegptbI4/default.jpg</td>\n",
       "      <td>False</td>\n",
       "      <td>False</td>\n",
       "      <td>False</td>\n",
       "      <td>Dashcam captures truck's near miss with child ...</td>\n",
       "      <td>GB</td>\n",
       "      <td>2017-11-14</td>\n",
       "    </tr>\n",
       "  </tbody>\n",
       "</table>\n",
       "</div>"
      ],
      "text/plain": [
       "      video_id                                              title  \\\n",
       "0  Jw1Y-zhQURU      John Lewis Christmas Ad 2017 - #MozTheMonster   \n",
       "1  3s1rvMFUweQ        Taylor Swift: â¦Ready for It? (Live) - SNL   \n",
       "2  n1WpP7iowLc        Eminem - Walk On Water (Audio) ft. BeyoncÃ©   \n",
       "3  PUTEiSjKwJU  Goals from Salford City vs Class of 92 and Fri...   \n",
       "4  rHwDegptbI4  Dashcam captures truck's near miss with child ...   \n",
       "\n",
       "                channel_title  category_id              publish_time  \\\n",
       "0                  John Lewis         1026  2017-11-10T07:38:29.000Z   \n",
       "1         Saturday Night Live         1024  2017-11-12T06:24:44.000Z   \n",
       "2                  EminemVEVO         1010  2017-11-10T17:00:03.000Z   \n",
       "3  Salford City Football Club         1017  2017-11-13T02:30:38.000Z   \n",
       "4            Cute Girl Videos         1025  2017-11-13T01:45:13.000Z   \n",
       "\n",
       "                                                tags     views   likes  \\\n",
       "0  christmas|\"john lewis christmas\"|\"john lewis\"|...   7224515   55681   \n",
       "1  SNL|\"Saturday Night Live\"|\"SNL Season 43\"|\"Epi...   1053632   25561   \n",
       "2  Eminem|\"Walk\"|\"On\"|\"Water\"|\"Aftermath/Shady/In...  17158579  787420   \n",
       "3  Salford City FC|\"Salford City\"|\"Salford\"|\"Clas...     27833     193   \n",
       "4                                             [none]      9815      30   \n",
       "\n",
       "   dislikes  comment_count                                  thumbnail_link  \\\n",
       "0     10247           9479  https://i.ytimg.com/vi/Jw1Y-zhQURU/default.jpg   \n",
       "1      2294           2757  https://i.ytimg.com/vi/3s1rvMFUweQ/default.jpg   \n",
       "2     43420         125882  https://i.ytimg.com/vi/n1WpP7iowLc/default.jpg   \n",
       "3        12             37  https://i.ytimg.com/vi/PUTEiSjKwJU/default.jpg   \n",
       "4         2             30  https://i.ytimg.com/vi/rHwDegptbI4/default.jpg   \n",
       "\n",
       "   comments_disabled  ratings_disabled  video_error_or_removed  \\\n",
       "0              False             False                   False   \n",
       "1              False             False                   False   \n",
       "2              False             False                   False   \n",
       "3              False             False                   False   \n",
       "4              False             False                   False   \n",
       "\n",
       "                                         description country trending_date  \n",
       "0  Click here to continue the story and make your...      GB    2017-11-14  \n",
       "1  Musical guest Taylor Swift performs â¦Ready f...      GB    2017-11-14  \n",
       "2  Eminem's new track Walk on Water ft. BeyoncÃ© ...      GB    2017-11-14  \n",
       "3  Salford drew 4-4 against the Class of 92 and F...      GB    2017-11-14  \n",
       "4  Dashcam captures truck's near miss with child ...      GB    2017-11-14  "
      ]
     },
     "execution_count": 9,
     "metadata": {},
     "output_type": "execute_result"
    }
   ],
   "source": [
    "data_frame['trending_date']=data_frame['trending_date'].astype('str')\n",
    "date=(data_frame['trending_date'].str.split('.'))\n",
    "data_frame['year']=date.str[0].astype(int)\n",
    "data_frame['year']=data_frame['year']+2000\n",
    "data_frame['day']=date.str[1].astype(int)\n",
    "data_frame['month']=date.str[2].astype(int)\n",
    "del data_frame['trending_date']\n",
    "data_frame['trending_date']= pd.to_datetime(data_frame[['year','month','day']],format=\"%Y/%m/%d\")\n",
    "del data_frame['year']\n",
    "del data_frame['month']\n",
    "del data_frame['day']\n",
    "data_frame.head()"
   ]
  },
  {
   "cell_type": "code",
   "execution_count": 10,
   "id": "fcdb7904",
   "metadata": {
    "execution": {
     "iopub.execute_input": "2022-09-09T19:45:48.105477Z",
     "iopub.status.busy": "2022-09-09T19:45:48.103626Z",
     "iopub.status.idle": "2022-09-09T19:45:48.113327Z",
     "shell.execute_reply": "2022-09-09T19:45:48.111861Z"
    },
    "papermill": {
     "duration": 0.019701,
     "end_time": "2022-09-09T19:45:48.115938",
     "exception": false,
     "start_time": "2022-09-09T19:45:48.096237",
     "status": "completed"
    },
    "tags": []
   },
   "outputs": [
    {
     "data": {
      "text/plain": [
       "0   2017-11-14\n",
       "1   2017-11-14\n",
       "2   2017-11-14\n",
       "3   2017-11-14\n",
       "4   2017-11-14\n",
       "Name: trending_date, dtype: datetime64[ns]"
      ]
     },
     "execution_count": 10,
     "metadata": {},
     "output_type": "execute_result"
    }
   ],
   "source": [
    "data_frame['trending_date'].head()"
   ]
  },
  {
   "cell_type": "code",
   "execution_count": 11,
   "id": "20baf00a",
   "metadata": {
    "execution": {
     "iopub.execute_input": "2022-09-09T19:45:48.131709Z",
     "iopub.status.busy": "2022-09-09T19:45:48.130049Z",
     "iopub.status.idle": "2022-09-09T19:45:48.298476Z",
     "shell.execute_reply": "2022-09-09T19:45:48.297346Z"
    },
    "papermill": {
     "duration": 0.178394,
     "end_time": "2022-09-09T19:45:48.300909",
     "exception": false,
     "start_time": "2022-09-09T19:45:48.122515",
     "status": "completed"
    },
    "tags": []
   },
   "outputs": [
    {
     "data": {
      "text/plain": [
       "0    False\n",
       "1    False\n",
       "2    False\n",
       "3    False\n",
       "4    False\n",
       "Name: comments_disabled, dtype: category\n",
       "Categories (2, object): [False, True]"
      ]
     },
     "execution_count": 11,
     "metadata": {},
     "output_type": "execute_result"
    }
   ],
   "source": [
    "#data_frame[['comments_disabled','ratings_disabled','video_error_or_removed']].dtypes\n",
    "data_frame[['comments_disabled','ratings_disabled','video_error_or_removed']]=data_frame[['comments_disabled','ratings_disabled','video_error_or_removed']].astype('category')\n",
    "data_frame['comments_disabled'].head()"
   ]
  },
  {
   "cell_type": "code",
   "execution_count": 12,
   "id": "e026c54e",
   "metadata": {
    "execution": {
     "iopub.execute_input": "2022-09-09T19:45:48.315981Z",
     "iopub.status.busy": "2022-09-09T19:45:48.315343Z",
     "iopub.status.idle": "2022-09-09T19:45:49.111845Z",
     "shell.execute_reply": "2022-09-09T19:45:49.110718Z"
    },
    "papermill": {
     "duration": 0.806701,
     "end_time": "2022-09-09T19:45:49.114195",
     "exception": false,
     "start_time": "2022-09-09T19:45:48.307494",
     "status": "completed"
    },
    "tags": []
   },
   "outputs": [
    {
     "data": {
      "text/plain": [
       "0   2017-11-10 07:38:29\n",
       "1   2017-11-12 06:24:44\n",
       "2   2017-11-10 17:00:03\n",
       "3   2017-11-13 02:30:38\n",
       "4   2017-11-13 01:45:13\n",
       "Name: publish_time, dtype: datetime64[ns]"
      ]
     },
     "execution_count": 12,
     "metadata": {},
     "output_type": "execute_result"
    }
   ],
   "source": [
    "data_frame['publish_time']=pd.to_datetime(data_frame['publish_time'],errors='coerce',format='%Y-%m-%dT%H:%M:%S.%fZ')\n",
    "data_frame['publish_time'].head()"
   ]
  },
  {
   "cell_type": "code",
   "execution_count": 13,
   "id": "b35866c5",
   "metadata": {
    "execution": {
     "iopub.execute_input": "2022-09-09T19:45:49.130264Z",
     "iopub.status.busy": "2022-09-09T19:45:49.129883Z",
     "iopub.status.idle": "2022-09-09T19:45:50.402848Z",
     "shell.execute_reply": "2022-09-09T19:45:50.401705Z"
    },
    "papermill": {
     "duration": 1.283746,
     "end_time": "2022-09-09T19:45:50.405518",
     "exception": false,
     "start_time": "2022-09-09T19:45:49.121772",
     "status": "completed"
    },
    "tags": []
   },
   "outputs": [],
   "source": [
    "data_frame['publish_date']=[d.date() for d in data_frame['publish_time']]\n",
    "data_frame['publish_date']=pd.to_datetime(data_frame['publish_date'],format=\"%Y-%m-%d\")\n",
    "#data-frame['publish_time']=[d.time() for d in data_frame['publish_time']]\n",
    "\n",
    "#data_frame.insert(4,'publish_date',data_frame['publish_time'].dt.date)\n",
    "#data_frame['publish_time']= data_frame['publish_time].dt.time"
   ]
  },
  {
   "cell_type": "code",
   "execution_count": 14,
   "id": "3e292577",
   "metadata": {
    "execution": {
     "iopub.execute_input": "2022-09-09T19:45:50.421380Z",
     "iopub.status.busy": "2022-09-09T19:45:50.420373Z",
     "iopub.status.idle": "2022-09-09T19:45:51.769160Z",
     "shell.execute_reply": "2022-09-09T19:45:51.768148Z"
    },
    "papermill": {
     "duration": 1.359048,
     "end_time": "2022-09-09T19:45:51.771475",
     "exception": false,
     "start_time": "2022-09-09T19:45:50.412427",
     "status": "completed"
    },
    "tags": []
   },
   "outputs": [],
   "source": [
    "data_frame['publishh_time']=[d.time() for d in data_frame['publish_time']]"
   ]
  },
  {
   "cell_type": "code",
   "execution_count": 15,
   "id": "c2d1958e",
   "metadata": {
    "execution": {
     "iopub.execute_input": "2022-09-09T19:45:51.786960Z",
     "iopub.status.busy": "2022-09-09T19:45:51.786059Z",
     "iopub.status.idle": "2022-09-09T19:45:51.794943Z",
     "shell.execute_reply": "2022-09-09T19:45:51.793991Z"
    },
    "papermill": {
     "duration": 0.018948,
     "end_time": "2022-09-09T19:45:51.797336",
     "exception": false,
     "start_time": "2022-09-09T19:45:51.778388",
     "status": "completed"
    },
    "tags": []
   },
   "outputs": [
    {
     "data": {
      "text/plain": [
       "video_id                          object\n",
       "title                             object\n",
       "channel_title                     object\n",
       "category_id                        int64\n",
       "publish_time              datetime64[ns]\n",
       "tags                              object\n",
       "views                              int64\n",
       "likes                              int64\n",
       "dislikes                           int64\n",
       "comment_count                      int64\n",
       "thumbnail_link                    object\n",
       "comments_disabled               category\n",
       "ratings_disabled                category\n",
       "video_error_or_removed          category\n",
       "description                       object\n",
       "country                           object\n",
       "trending_date             datetime64[ns]\n",
       "publish_date              datetime64[ns]\n",
       "publishh_time                     object\n",
       "dtype: object"
      ]
     },
     "execution_count": 15,
     "metadata": {},
     "output_type": "execute_result"
    }
   ],
   "source": [
    "data_frame.dtypes"
   ]
  },
  {
   "cell_type": "code",
   "execution_count": 16,
   "id": "89015354",
   "metadata": {
    "execution": {
     "iopub.execute_input": "2022-09-09T19:45:51.812964Z",
     "iopub.status.busy": "2022-09-09T19:45:51.812610Z",
     "iopub.status.idle": "2022-09-09T19:45:51.835651Z",
     "shell.execute_reply": "2022-09-09T19:45:51.834862Z"
    },
    "papermill": {
     "duration": 0.033341,
     "end_time": "2022-09-09T19:45:51.837800",
     "exception": false,
     "start_time": "2022-09-09T19:45:51.804459",
     "status": "completed"
    },
    "tags": []
   },
   "outputs": [
    {
     "data": {
      "text/html": [
       "<div>\n",
       "<style scoped>\n",
       "    .dataframe tbody tr th:only-of-type {\n",
       "        vertical-align: middle;\n",
       "    }\n",
       "\n",
       "    .dataframe tbody tr th {\n",
       "        vertical-align: top;\n",
       "    }\n",
       "\n",
       "    .dataframe thead th {\n",
       "        text-align: right;\n",
       "    }\n",
       "</style>\n",
       "<table border=\"1\" class=\"dataframe\">\n",
       "  <thead>\n",
       "    <tr style=\"text-align: right;\">\n",
       "      <th></th>\n",
       "      <th>video_id</th>\n",
       "      <th>title</th>\n",
       "      <th>channel_title</th>\n",
       "      <th>category_id</th>\n",
       "      <th>publish_time</th>\n",
       "      <th>tags</th>\n",
       "      <th>views</th>\n",
       "      <th>likes</th>\n",
       "      <th>dislikes</th>\n",
       "      <th>comment_count</th>\n",
       "      <th>thumbnail_link</th>\n",
       "      <th>comments_disabled</th>\n",
       "      <th>ratings_disabled</th>\n",
       "      <th>video_error_or_removed</th>\n",
       "      <th>description</th>\n",
       "      <th>country</th>\n",
       "      <th>trending_date</th>\n",
       "      <th>publish_date</th>\n",
       "      <th>publishh_time</th>\n",
       "    </tr>\n",
       "    <tr>\n",
       "      <th>video_id</th>\n",
       "      <th></th>\n",
       "      <th></th>\n",
       "      <th></th>\n",
       "      <th></th>\n",
       "      <th></th>\n",
       "      <th></th>\n",
       "      <th></th>\n",
       "      <th></th>\n",
       "      <th></th>\n",
       "      <th></th>\n",
       "      <th></th>\n",
       "      <th></th>\n",
       "      <th></th>\n",
       "      <th></th>\n",
       "      <th></th>\n",
       "      <th></th>\n",
       "      <th></th>\n",
       "      <th></th>\n",
       "      <th></th>\n",
       "    </tr>\n",
       "  </thead>\n",
       "  <tbody>\n",
       "    <tr>\n",
       "      <th>Jw1Y-zhQURU</th>\n",
       "      <td>Jw1Y-zhQURU</td>\n",
       "      <td>John Lewis Christmas Ad 2017 - #MozTheMonster</td>\n",
       "      <td>John Lewis</td>\n",
       "      <td>1026</td>\n",
       "      <td>2017-11-10 07:38:29</td>\n",
       "      <td>christmas|\"john lewis christmas\"|\"john lewis\"|...</td>\n",
       "      <td>7224515</td>\n",
       "      <td>55681</td>\n",
       "      <td>10247</td>\n",
       "      <td>9479</td>\n",
       "      <td>https://i.ytimg.com/vi/Jw1Y-zhQURU/default.jpg</td>\n",
       "      <td>False</td>\n",
       "      <td>False</td>\n",
       "      <td>False</td>\n",
       "      <td>Click here to continue the story and make your...</td>\n",
       "      <td>GB</td>\n",
       "      <td>2017-11-14</td>\n",
       "      <td>2017-11-10</td>\n",
       "      <td>07:38:29</td>\n",
       "    </tr>\n",
       "    <tr>\n",
       "      <th>3s1rvMFUweQ</th>\n",
       "      <td>3s1rvMFUweQ</td>\n",
       "      <td>Taylor Swift: â¦Ready for It? (Live) - SNL</td>\n",
       "      <td>Saturday Night Live</td>\n",
       "      <td>1024</td>\n",
       "      <td>2017-11-12 06:24:44</td>\n",
       "      <td>SNL|\"Saturday Night Live\"|\"SNL Season 43\"|\"Epi...</td>\n",
       "      <td>1053632</td>\n",
       "      <td>25561</td>\n",
       "      <td>2294</td>\n",
       "      <td>2757</td>\n",
       "      <td>https://i.ytimg.com/vi/3s1rvMFUweQ/default.jpg</td>\n",
       "      <td>False</td>\n",
       "      <td>False</td>\n",
       "      <td>False</td>\n",
       "      <td>Musical guest Taylor Swift performs â¦Ready f...</td>\n",
       "      <td>GB</td>\n",
       "      <td>2017-11-14</td>\n",
       "      <td>2017-11-12</td>\n",
       "      <td>06:24:44</td>\n",
       "    </tr>\n",
       "    <tr>\n",
       "      <th>n1WpP7iowLc</th>\n",
       "      <td>n1WpP7iowLc</td>\n",
       "      <td>Eminem - Walk On Water (Audio) ft. BeyoncÃ©</td>\n",
       "      <td>EminemVEVO</td>\n",
       "      <td>1010</td>\n",
       "      <td>2017-11-10 17:00:03</td>\n",
       "      <td>Eminem|\"Walk\"|\"On\"|\"Water\"|\"Aftermath/Shady/In...</td>\n",
       "      <td>17158579</td>\n",
       "      <td>787420</td>\n",
       "      <td>43420</td>\n",
       "      <td>125882</td>\n",
       "      <td>https://i.ytimg.com/vi/n1WpP7iowLc/default.jpg</td>\n",
       "      <td>False</td>\n",
       "      <td>False</td>\n",
       "      <td>False</td>\n",
       "      <td>Eminem's new track Walk on Water ft. BeyoncÃ© ...</td>\n",
       "      <td>GB</td>\n",
       "      <td>2017-11-14</td>\n",
       "      <td>2017-11-10</td>\n",
       "      <td>17:00:03</td>\n",
       "    </tr>\n",
       "    <tr>\n",
       "      <th>PUTEiSjKwJU</th>\n",
       "      <td>PUTEiSjKwJU</td>\n",
       "      <td>Goals from Salford City vs Class of 92 and Fri...</td>\n",
       "      <td>Salford City Football Club</td>\n",
       "      <td>1017</td>\n",
       "      <td>2017-11-13 02:30:38</td>\n",
       "      <td>Salford City FC|\"Salford City\"|\"Salford\"|\"Clas...</td>\n",
       "      <td>27833</td>\n",
       "      <td>193</td>\n",
       "      <td>12</td>\n",
       "      <td>37</td>\n",
       "      <td>https://i.ytimg.com/vi/PUTEiSjKwJU/default.jpg</td>\n",
       "      <td>False</td>\n",
       "      <td>False</td>\n",
       "      <td>False</td>\n",
       "      <td>Salford drew 4-4 against the Class of 92 and F...</td>\n",
       "      <td>GB</td>\n",
       "      <td>2017-11-14</td>\n",
       "      <td>2017-11-13</td>\n",
       "      <td>02:30:38</td>\n",
       "    </tr>\n",
       "    <tr>\n",
       "      <th>rHwDegptbI4</th>\n",
       "      <td>rHwDegptbI4</td>\n",
       "      <td>Dashcam captures truck's near miss with child ...</td>\n",
       "      <td>Cute Girl Videos</td>\n",
       "      <td>1025</td>\n",
       "      <td>2017-11-13 01:45:13</td>\n",
       "      <td>[none]</td>\n",
       "      <td>9815</td>\n",
       "      <td>30</td>\n",
       "      <td>2</td>\n",
       "      <td>30</td>\n",
       "      <td>https://i.ytimg.com/vi/rHwDegptbI4/default.jpg</td>\n",
       "      <td>False</td>\n",
       "      <td>False</td>\n",
       "      <td>False</td>\n",
       "      <td>Dashcam captures truck's near miss with child ...</td>\n",
       "      <td>GB</td>\n",
       "      <td>2017-11-14</td>\n",
       "      <td>2017-11-13</td>\n",
       "      <td>01:45:13</td>\n",
       "    </tr>\n",
       "  </tbody>\n",
       "</table>\n",
       "</div>"
      ],
      "text/plain": [
       "                video_id                                              title  \\\n",
       "video_id                                                                      \n",
       "Jw1Y-zhQURU  Jw1Y-zhQURU      John Lewis Christmas Ad 2017 - #MozTheMonster   \n",
       "3s1rvMFUweQ  3s1rvMFUweQ        Taylor Swift: â¦Ready for It? (Live) - SNL   \n",
       "n1WpP7iowLc  n1WpP7iowLc        Eminem - Walk On Water (Audio) ft. BeyoncÃ©   \n",
       "PUTEiSjKwJU  PUTEiSjKwJU  Goals from Salford City vs Class of 92 and Fri...   \n",
       "rHwDegptbI4  rHwDegptbI4  Dashcam captures truck's near miss with child ...   \n",
       "\n",
       "                          channel_title  category_id        publish_time  \\\n",
       "video_id                                                                   \n",
       "Jw1Y-zhQURU                  John Lewis         1026 2017-11-10 07:38:29   \n",
       "3s1rvMFUweQ         Saturday Night Live         1024 2017-11-12 06:24:44   \n",
       "n1WpP7iowLc                  EminemVEVO         1010 2017-11-10 17:00:03   \n",
       "PUTEiSjKwJU  Salford City Football Club         1017 2017-11-13 02:30:38   \n",
       "rHwDegptbI4            Cute Girl Videos         1025 2017-11-13 01:45:13   \n",
       "\n",
       "                                                          tags     views  \\\n",
       "video_id                                                                   \n",
       "Jw1Y-zhQURU  christmas|\"john lewis christmas\"|\"john lewis\"|...   7224515   \n",
       "3s1rvMFUweQ  SNL|\"Saturday Night Live\"|\"SNL Season 43\"|\"Epi...   1053632   \n",
       "n1WpP7iowLc  Eminem|\"Walk\"|\"On\"|\"Water\"|\"Aftermath/Shady/In...  17158579   \n",
       "PUTEiSjKwJU  Salford City FC|\"Salford City\"|\"Salford\"|\"Clas...     27833   \n",
       "rHwDegptbI4                                             [none]      9815   \n",
       "\n",
       "              likes  dislikes  comment_count  \\\n",
       "video_id                                       \n",
       "Jw1Y-zhQURU   55681     10247           9479   \n",
       "3s1rvMFUweQ   25561      2294           2757   \n",
       "n1WpP7iowLc  787420     43420         125882   \n",
       "PUTEiSjKwJU     193        12             37   \n",
       "rHwDegptbI4      30         2             30   \n",
       "\n",
       "                                             thumbnail_link comments_disabled  \\\n",
       "video_id                                                                        \n",
       "Jw1Y-zhQURU  https://i.ytimg.com/vi/Jw1Y-zhQURU/default.jpg             False   \n",
       "3s1rvMFUweQ  https://i.ytimg.com/vi/3s1rvMFUweQ/default.jpg             False   \n",
       "n1WpP7iowLc  https://i.ytimg.com/vi/n1WpP7iowLc/default.jpg             False   \n",
       "PUTEiSjKwJU  https://i.ytimg.com/vi/PUTEiSjKwJU/default.jpg             False   \n",
       "rHwDegptbI4  https://i.ytimg.com/vi/rHwDegptbI4/default.jpg             False   \n",
       "\n",
       "            ratings_disabled video_error_or_removed  \\\n",
       "video_id                                              \n",
       "Jw1Y-zhQURU            False                  False   \n",
       "3s1rvMFUweQ            False                  False   \n",
       "n1WpP7iowLc            False                  False   \n",
       "PUTEiSjKwJU            False                  False   \n",
       "rHwDegptbI4            False                  False   \n",
       "\n",
       "                                                   description country  \\\n",
       "video_id                                                                 \n",
       "Jw1Y-zhQURU  Click here to continue the story and make your...      GB   \n",
       "3s1rvMFUweQ  Musical guest Taylor Swift performs â¦Ready f...      GB   \n",
       "n1WpP7iowLc  Eminem's new track Walk on Water ft. BeyoncÃ© ...      GB   \n",
       "PUTEiSjKwJU  Salford drew 4-4 against the Class of 92 and F...      GB   \n",
       "rHwDegptbI4  Dashcam captures truck's near miss with child ...      GB   \n",
       "\n",
       "            trending_date publish_date publishh_time  \n",
       "video_id                                              \n",
       "Jw1Y-zhQURU    2017-11-14   2017-11-10      07:38:29  \n",
       "3s1rvMFUweQ    2017-11-14   2017-11-12      06:24:44  \n",
       "n1WpP7iowLc    2017-11-14   2017-11-10      17:00:03  \n",
       "PUTEiSjKwJU    2017-11-14   2017-11-13      02:30:38  \n",
       "rHwDegptbI4    2017-11-14   2017-11-13      01:45:13  "
      ]
     },
     "execution_count": 16,
     "metadata": {},
     "output_type": "execute_result"
    }
   ],
   "source": [
    "data_frame.set_index(data_frame['video_id'], inplace= True)\n",
    "data_frame.head()"
   ]
  },
  {
   "cell_type": "code",
   "execution_count": 17,
   "id": "88db25f6",
   "metadata": {
    "execution": {
     "iopub.execute_input": "2022-09-09T19:45:51.853455Z",
     "iopub.status.busy": "2022-09-09T19:45:51.853083Z",
     "iopub.status.idle": "2022-09-09T19:45:51.862793Z",
     "shell.execute_reply": "2022-09-09T19:45:51.861808Z"
    },
    "papermill": {
     "duration": 0.019963,
     "end_time": "2022-09-09T19:45:51.864936",
     "exception": false,
     "start_time": "2022-09-09T19:45:51.844973",
     "status": "completed"
    },
    "tags": []
   },
   "outputs": [
    {
     "data": {
      "text/plain": [
       "video_id\n",
       "Jw1Y-zhQURU    Click here to continue the story and make your...\n",
       "3s1rvMFUweQ    Musical guest Taylor Swift performs â¦Ready f...\n",
       "n1WpP7iowLc    Eminem's new track Walk on Water ft. BeyoncÃ© ...\n",
       "PUTEiSjKwJU    Salford drew 4-4 against the Class of 92 and F...\n",
       "rHwDegptbI4    Dashcam captures truck's near miss with child ...\n",
       "AumaWl0TNBo    âº HOW MY RELATIONSHIP STARTED!\\nâº PB Merch...\n",
       "2Vv-BfVoq4g    ð§: https://ad.gt/yt-perfect\\nð°: https://...\n",
       "-N5eucPMTTc    CHRISTMAS HAS GONE TO MY HEAD\\nPrevious Vlog: ...\n",
       "LMCuKltaY3M    âGolden Slumbersâ, originally by The Beatl...\n",
       "9t9u_yPEidY    Jennifer Lopez ft. Wisin - Amor, Amor, Amor (O...\n",
       "ONQ-fAp5X64    â¢ Join my FREE 7 Steps to Success - http://w...\n",
       "Dlwf5u2BLAg    More from Inside Edition: https://www.youtube....\n",
       "NVCqz2BDfcQ    Gucci Mane - Curve feat. The Weeknd\\n\\n Mr. Da...\n",
       "MyEqfBkzESU    -\\n\\n\\nWebsite - http://www.johnmaclean.co.uk\\...\n",
       "b4vTZx_AtHk    Today I show you how to completely dry a shirt...\n",
       "BsfhHKx6ajA    Trust us, there's nowhere else in the universe...\n",
       "DIU3xPdhCBI    You have to watch this! Sam serenades a couple...\n",
       "pz95u3UVpaM    Havana â Spotify Vertical Video \\nVideo Dire...\n",
       "jp9hK-jY6yY    You know that feeling when someone has a crush...\n",
       "gEHCXl4J9Qo    This intimate fan performance of Taylor Swift'...\n",
       "OWvCCu2t6Ts    A big chat about everything going on in my pre...\n",
       "6p-QzY5bxJ0    James and the young stars of Stranger Things -...\n",
       "fiusxyygqGk    PURCHASE YOU & ME HERE â¶ https://smarturl.it...\n",
       "QOksZ8VogRw    Bastille - World Gone Mad from Bright: The Alb...\n",
       "lo5ERI5nPbM    A Geek Mythology Production \\n\\nDirector Ben S...\n",
       "Ja_GMU7-sjs    Pixelbook is a $1000 2-in-1 laptop/tablet and ...\n",
       "_6ViZ13mN9I    Every Friday on TMZ Sports UFC Welterweight Ch...\n",
       "F62QpaPWXDI    Subscribe and join the fam! http://www.youtube...\n",
       "g5c1bk8weaQ    Having kids, having anxiety and not having boo...\n",
       "3qYt_fXdaXY                                            episode 4\n",
       "Y5MqpKlKiSM    WATCH NEXT - \\nFeeling Left Out ð : https:/...\n",
       "xg9ebVTL9yE    Download or stream âWay to Goâ by Empire o...\n",
       "J_QGZspO4gg    Move over Frosty Snowman is here! Stream & dow...\n",
       "cUtYh_ZUjqc    In tribute to the December edition of Vogue â...\n",
       "E7ykb1geOoU    Joe Glenton on what we should be thinking abou...\n",
       "pHE8nIB6j2U    ChayanneÂ® ft. Ozuna - Choka Choka (Official M...\n",
       "dwkNG9qeYIY    You Can Find Me Here: \\n\\nWebsite: http://www....\n",
       "z7VBtM7clT4    Ben Affleck, Gal Gadot, Jason Momoa, Ezra Mill...\n",
       "7fm7mll2qvg    Listen to Strangers here: https://Sigrid.lnk.t...\n",
       "QFfEtKvXMAs    Get Niall's album Flicker featuring 'Too Much ...\n",
       "6RyOsIseJbk    A wonderful friend of the bride and groom writ...\n",
       "qEEtzzi1EII    Watch Simon's Cat's Guide To Birthdays! \\nSUBS...\n",
       "rL4WkebTT_U    Tokyo has some premium romantic views. Let's c...\n",
       "8l_e6bx8UG8    Remy Ma - Wake Me Up featuring Lil' Kim (Offic...\n",
       "N8U2EPiEbZo    MOVING HOUSE AND PLANNING A WEDDING MEANS I NE...\n",
       "iNsTzqwwioY    Many people believe in personality tests and h...\n",
       "9GqL1DSQDL0    Hey babes! Happy Friday! It's the WEEKENDDD He...\n",
       "OGKchfcd-5w    Power 106 YouTube Channel: \\nSubscribe Now - h...\n",
       "44NYFvhXmW8    Best of Thirty Seconds To Mars: https://goo.gl...\n",
       "RYs08kX3Ih4    Hello Everyone! \\n\\nI forgot to mention that I...\n",
       "nnrkPRApQg8    After not being invited to Khloe Kardashian's ...\n",
       "eHIY3HNNqzM    The Script - Arms Open (Acoustic)\\nListen to '...\n",
       "gSW2l1z1lKw    i decided it would be fun to set off some fire...\n",
       "9wg3v-01yKQ    Harry Styles' self-titled debut album is avail...\n",
       "nrXlY6gzTTM    Steven Spielberg directs Meryl Streep and Tom ...\n",
       "EYkEshCOhEU    To see the power of this lip watch my One Chip...\n",
       "P4ohTV_28Oc                                     SNL Taylor Swift\n",
       "q-WipZ9p0wk    Welcome to day three of cooking for the price ...\n",
       "510KQ_LXGww    My Every Day Autumn Makeup\\nâ¢ Previous Video...\n",
       "A8ScwhLh7uo    This episode is brought to you by T-Mobile. No...\n",
       "ZwIuff3270M    In an exclusive interview, Corey Haim's mother...\n",
       "1cgK-BIrXes    This #VeteransDay, we want to say thank you to...\n",
       "3DflRo_Vids    CÃ©line Dion made a surprise performance at OM...\n",
       "P4YJwy_T9pM    Link to our pinterest recipes shopping room: h...\n",
       "vd4zwINEcLY    Stop torturing yourself man, you'll never affo...\n",
       "4FDpjKdlIxA    In this episode of the Waking Up podcast, Sam ...\n",
       "CR9zYgr84QY    These cupcakes are for life, not just for Autu...\n",
       "ssbOzbL1SJQ    JUSTICE LEAGUE Movie Clip Aquaman Island + Tra...\n",
       "1KVBFtSuCm0    We wrote two papers on this:\\nhttp://www.cs.da...\n",
       "YInRqgNMLBc    Lithuanian football does it again. Like the pl...\n",
       "949vJMp0v40    THUNDER TO RELEASE NEW SINGLE âCHRISTMAS DAY...\n",
       "sECcOTO8Ij4    Click to Subscribe âº http://bit.ly/GrumpSubs...\n",
       "sF1l7v3XY6I    A tour around my wardrobe/closet/dressing room...\n",
       "wjy9Jgnjv6U    It's Fat Wednesday on GMBN! No longer just for...\n",
       "FUzs2oMEs8w    ARTIST: VIRTUAL SELF\\nTRACK: GHOST VOICES\\nGEN...\n",
       "vHCvmZlC5jQ    Watch Difficult People on Hulu now!! http://hu...\n",
       "Fkwkn7vXpWI    Where do waves come from and how are they form...\n",
       "d8RW-WSpAhQ    I've seen people posting the 'Weed B Gone' mad...\n",
       "G1Ky9-OoWyo    Paul Keslin of EA DICE talks with me for 30 mi...\n",
       "54Eae2ewc1c    Cover of Bruce Springsteen's 'Iâm On Fire'/4...\n",
       "PoNWU2cox9w    Keanu Reeves gives Wired a tour of Arch Motorc...\n",
       "mwpHSMv1pI4    My girlfriend surprises me with a makeover! I'...\n",
       "cpvoCLX8agc    Just eight days after being booed off followin...\n",
       "KdFRkillEfM    SNEAKING INTO SNOZONE AND HIDING FOR 4 HOURS T...\n",
       "E7q_wbbwGyU    The brand new single from Liam Payne. Listen t...\n",
       "vLVSf_yI_r8    gugudan(êµ¬êµ¬ë¨) - 'Chococo' Official M/V\\n\\...\n",
       "kGOmPmILndU    Get Taylor Swiftâs new album, reputation, he...\n",
       "F6rBIWN8SsM    Some people pray for love to come their way, b...\n",
       "vht9VHo8r5c    The Maroon 5 singer lets Ellen tell him what t...\n",
       "IOd0HGH6xKI    Follow our Spotify playlist: http://trapcity.t...\n",
       "sLJdBmAeB_U    COME SHOPPING WITH ME AND TRYING ON NEW CLOTHI...\n",
       "_wM_jY_rass                                                  NaN\n",
       "mCx26FLXWuI    In a main event with enormous Survivor Series ...\n",
       "R59TevgzN3k      Upgrade to Galaxy.\\nLearn more: smsng.us/Switch\n",
       "iDXlWTRyxgE    Stephen expresses his feelings on the most use...\n",
       "z4bLKt9k5dk    Whether it's questions about how much of their...\n",
       "GdR-iTH_f-I    âº Listen LIVE: http://power1051fm.com/\\nâº ...\n",
       "axVvZrDz60k    EXIDê° ë¤ ë²ì§¸ ë¯¸ëì¨ë² [Full Moon]ì¼...\n",
       "Wjq7x2d_s1w    Official video for 'Blue Light', from Kelela's...\n",
       "aaOB-ErYq6Y    Waymo, which started as the Google self-drivin...\n",
       "Name: description, dtype: object"
      ]
     },
     "execution_count": 17,
     "metadata": {},
     "output_type": "execute_result"
    }
   ],
   "source": [
    "data_frame['description'].head(100)"
   ]
  },
  {
   "cell_type": "code",
   "execution_count": 18,
   "id": "b8d6e7a4",
   "metadata": {
    "execution": {
     "iopub.execute_input": "2022-09-09T19:45:51.881792Z",
     "iopub.status.busy": "2022-09-09T19:45:51.881459Z",
     "iopub.status.idle": "2022-09-09T19:46:01.856386Z",
     "shell.execute_reply": "2022-09-09T19:46:01.855092Z"
    },
    "papermill": {
     "duration": 9.986145,
     "end_time": "2022-09-09T19:46:01.858717",
     "exception": false,
     "start_time": "2022-09-09T19:45:51.872572",
     "status": "completed"
    },
    "tags": []
   },
   "outputs": [
    {
     "data": {
      "text/plain": [
       "<Figure size 432x288 with 0 Axes>"
      ]
     },
     "execution_count": 18,
     "metadata": {},
     "output_type": "execute_result"
    },
    {
     "data": {
      "image/png": "[encoded data removed]",
      "text/plain": [
       "<Figure size 432x288 with 2 Axes>"
      ]
     },
     "metadata": {},
     "output_type": "display_data"
    },
    {
     "data": {
      "text/plain": [
       "<Figure size 432x288 with 0 Axes>"
      ]
     },
     "metadata": {},
     "output_type": "display_data"
    }
   ],
   "source": [
    "sns.heatmap(data_frame.isnull(), cbar=True)\n",
    "plt.figure()"
   ]
  },
  {
   "cell_type": "code",
   "execution_count": null,
   "id": "be6b9bae",
   "metadata": {
    "papermill": {
     "duration": 0.008607,
     "end_time": "2022-09-09T19:46:01.876484",
     "exception": false,
     "start_time": "2022-09-09T19:46:01.867877",
     "status": "completed"
    },
    "tags": []
   },
   "outputs": [],
   "source": []
  }
 ],
 "metadata": {
  "kernelspec": {
   "display_name": "Python 3",
   "language": "python",
   "name": "python3"
  },
  "language_info": {
   "codemirror_mode": {
    "name": "ipython",
    "version": 3
   },
   "file_extension": ".py",
   "mimetype": "text/x-python",
   "name": "python",
   "nbconvert_exporter": "python",
   "pygments_lexer": "ipython3",
   "version": "3.7.12"
  },
  "papermill": {
   "default_parameters": {},
   "duration": 42.040783,
   "end_time": "2022-09-09T19:46:02.808456",
   "environment_variables": {},
   "exception": null,
   "input_path": "__notebook__.ipynb",
   "output_path": "__notebook__.ipynb",
   "parameters": {},
   "start_time": "2022-09-09T19:45:20.767673",
   "version": "2.3.4"
  }
 },
 "nbformat": 4,
 "nbformat_minor": 5
}
