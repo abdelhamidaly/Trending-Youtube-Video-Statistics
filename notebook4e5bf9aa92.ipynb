{
 "cells": [
  {
   "cell_type": "code",
   "execution_count": 1,
   "id": "3e396c91",
   "metadata": {
    "_cell_guid": "b1076dfc-b9ad-4769-8c92-a6c4dae69d19",
    "_uuid": "8f2839f25d086af736a60e9eeb907d3b93b6e0e5",
    "execution": {
     "iopub.execute_input": "2022-09-08T21:39:16.538574Z",
     "iopub.status.busy": "2022-09-08T21:39:16.537767Z",
     "iopub.status.idle": "2022-09-08T21:39:16.572065Z",
     "shell.execute_reply": "2022-09-08T21:39:16.570864Z"
    },
    "papermill": {
     "duration": 0.044169,
     "end_time": "2022-09-08T21:39:16.574939",
     "exception": false,
     "start_time": "2022-09-08T21:39:16.530770",
     "status": "completed"
    },
    "tags": []
   },
   "outputs": [
    {
     "name": "stdout",
     "output_type": "stream",
     "text": [
      "/kaggle/input/youtube-new/GBvideos.csv\n",
      "/kaggle/input/youtube-new/MXvideos.csv\n",
      "/kaggle/input/youtube-new/KRvideos.csv\n",
      "/kaggle/input/youtube-new/MX_category_id.json\n",
      "/kaggle/input/youtube-new/GB_category_id.json\n",
      "/kaggle/input/youtube-new/US_category_id.json\n",
      "/kaggle/input/youtube-new/IN_category_id.json\n",
      "/kaggle/input/youtube-new/DEvideos.csv\n",
      "/kaggle/input/youtube-new/KR_category_id.json\n",
      "/kaggle/input/youtube-new/RU_category_id.json\n",
      "/kaggle/input/youtube-new/FRvideos.csv\n",
      "/kaggle/input/youtube-new/USvideos.csv\n",
      "/kaggle/input/youtube-new/INvideos.csv\n",
      "/kaggle/input/youtube-new/RUvideos.csv\n",
      "/kaggle/input/youtube-new/CA_category_id.json\n",
      "/kaggle/input/youtube-new/DE_category_id.json\n",
      "/kaggle/input/youtube-new/JP_category_id.json\n",
      "/kaggle/input/youtube-new/JPvideos.csv\n",
      "/kaggle/input/youtube-new/FR_category_id.json\n",
      "/kaggle/input/youtube-new/CAvideos.csv\n"
     ]
    }
   ],
   "source": [
    "# This Python 3 environment comes with many helpful analytics libraries installed\n",
    "# It is defined by the kaggle/python Docker image: https://github.com/kaggle/docker-python\n",
    "# For example, here's several helpful packages to load\n",
    "\n",
    "import numpy as np # linear algebra\n",
    "import pandas as pd # data processing, CSV file I/O (e.g. pd.read_csv)\n",
    "\n",
    "# Input data files are available in the read-only \"../input/\" directory\n",
    "# For example, running this (by clicking run or pressing Shift+Enter) will list all files under the input directory\n",
    "\n",
    "import os\n",
    "for dirname, _, filenames in os.walk('/kaggle/input'):\n",
    "    for filename in filenames:\n",
    "        print(os.path.join(dirname, filename))\n",
    "\n",
    "# You can write up to 20GB to the current directory (/kaggle/working/) that gets preserved as output when you create a version using \"Save & Run All\" \n",
    "# You can also write temporary files to /kaggle/temp/, but they won't be saved outside of the current session"
   ]
  },
  {
   "cell_type": "code",
   "execution_count": 2,
   "id": "8cfa6b75",
   "metadata": {
    "execution": {
     "iopub.execute_input": "2022-09-08T21:39:16.585089Z",
     "iopub.status.busy": "2022-09-08T21:39:16.584352Z",
     "iopub.status.idle": "2022-09-08T21:39:17.685449Z",
     "shell.execute_reply": "2022-09-08T21:39:17.684304Z"
    },
    "papermill": {
     "duration": 1.109046,
     "end_time": "2022-09-08T21:39:17.688283",
     "exception": false,
     "start_time": "2022-09-08T21:39:16.579237",
     "status": "completed"
    },
    "tags": []
   },
   "outputs": [],
   "source": [
    "import numpy as np\n",
    "import re\n",
    "import pandas as pd\n",
    "import matplotlib.pyplot as plt\n",
    "%matplotlib inline\n",
    "import seaborn as sns\n",
    "from matplotlib import cm\n",
    "from datetime import datetime\n",
    "import glob\n",
    "import os\n",
    "import json\n",
    "import pickle\n",
    "import six\n",
    "sns.set()\n",
    "pd.set_option('display.max_columns', None)\n",
    "pd.set_option('display.max_rows', None)\n",
    "pd.options.mode.chained_assignment = None\n",
    "os.chdir(\"../input/youtube-new\")"
   ]
  },
  {
   "cell_type": "code",
   "execution_count": 3,
   "id": "a0531962",
   "metadata": {
    "execution": {
     "iopub.execute_input": "2022-09-08T21:39:17.698499Z",
     "iopub.status.busy": "2022-09-08T21:39:17.697862Z",
     "iopub.status.idle": "2022-09-08T21:39:17.707550Z",
     "shell.execute_reply": "2022-09-08T21:39:17.706812Z"
    },
    "papermill": {
     "duration": 0.017018,
     "end_time": "2022-09-08T21:39:17.709628",
     "exception": false,
     "start_time": "2022-09-08T21:39:17.692610",
     "status": "completed"
    },
    "tags": []
   },
   "outputs": [
    {
     "data": {
      "text/plain": [
       "['GBvideos.csv',\n",
       " 'MXvideos.csv',\n",
       " 'KRvideos.csv',\n",
       " 'DEvideos.csv',\n",
       " 'FRvideos.csv',\n",
       " 'USvideos.csv',\n",
       " 'INvideos.csv',\n",
       " 'RUvideos.csv',\n",
       " 'JPvideos.csv',\n",
       " 'CAvideos.csv']"
      ]
     },
     "execution_count": 3,
     "metadata": {},
     "output_type": "execute_result"
    }
   ],
   "source": [
    "#path=(\"../input/youtube-new\")\n",
    "#allcsv= glob.glob(path + \"/*.csv\")\n",
    "all_csv=[i for i in glob.glob(\"*.{}\".format(\"csv\"))]\n",
    "all_csv"
   ]
  },
  {
   "cell_type": "code",
   "execution_count": 4,
   "id": "970d7cbb",
   "metadata": {
    "execution": {
     "iopub.execute_input": "2022-09-08T21:39:17.719733Z",
     "iopub.status.busy": "2022-09-08T21:39:17.718829Z",
     "iopub.status.idle": "2022-09-08T21:39:31.636104Z",
     "shell.execute_reply": "2022-09-08T21:39:31.635013Z"
    },
    "papermill": {
     "duration": 13.924781,
     "end_time": "2022-09-08T21:39:31.638604",
     "exception": false,
     "start_time": "2022-09-08T21:39:17.713823",
     "status": "completed"
    },
    "tags": []
   },
   "outputs": [
    {
     "data": {
      "text/html": [
       "<div>\n",
       "<style scoped>\n",
       "    .dataframe tbody tr th:only-of-type {\n",
       "        vertical-align: middle;\n",
       "    }\n",
       "\n",
       "    .dataframe tbody tr th {\n",
       "        vertical-align: top;\n",
       "    }\n",
       "\n",
       "    .dataframe thead th {\n",
       "        text-align: right;\n",
       "    }\n",
       "</style>\n",
       "<table border=\"1\" class=\"dataframe\">\n",
       "  <thead>\n",
       "    <tr style=\"text-align: right;\">\n",
       "      <th></th>\n",
       "      <th>video_id</th>\n",
       "      <th>trending_date</th>\n",
       "      <th>title</th>\n",
       "      <th>channel_title</th>\n",
       "      <th>category_id</th>\n",
       "      <th>publish_time</th>\n",
       "      <th>tags</th>\n",
       "      <th>views</th>\n",
       "      <th>likes</th>\n",
       "      <th>dislikes</th>\n",
       "      <th>comment_count</th>\n",
       "      <th>thumbnail_link</th>\n",
       "      <th>comments_disabled</th>\n",
       "      <th>ratings_disabled</th>\n",
       "      <th>video_error_or_removed</th>\n",
       "      <th>description</th>\n",
       "      <th>country</th>\n",
       "    </tr>\n",
       "  </thead>\n",
       "  <tbody>\n",
       "    <tr>\n",
       "      <th>0</th>\n",
       "      <td>Jw1Y-zhQURU</td>\n",
       "      <td>17.14.11</td>\n",
       "      <td>John Lewis Christmas Ad 2017 - #MozTheMonster</td>\n",
       "      <td>John Lewis</td>\n",
       "      <td>26</td>\n",
       "      <td>2017-11-10T07:38:29.000Z</td>\n",
       "      <td>christmas|\"john lewis christmas\"|\"john lewis\"|...</td>\n",
       "      <td>7224515</td>\n",
       "      <td>55681</td>\n",
       "      <td>10247</td>\n",
       "      <td>9479</td>\n",
       "      <td>https://i.ytimg.com/vi/Jw1Y-zhQURU/default.jpg</td>\n",
       "      <td>False</td>\n",
       "      <td>False</td>\n",
       "      <td>False</td>\n",
       "      <td>Click here to continue the story and make your...</td>\n",
       "      <td>GB</td>\n",
       "    </tr>\n",
       "    <tr>\n",
       "      <th>1</th>\n",
       "      <td>3s1rvMFUweQ</td>\n",
       "      <td>17.14.11</td>\n",
       "      <td>Taylor Swift: â¦Ready for It? (Live) - SNL</td>\n",
       "      <td>Saturday Night Live</td>\n",
       "      <td>24</td>\n",
       "      <td>2017-11-12T06:24:44.000Z</td>\n",
       "      <td>SNL|\"Saturday Night Live\"|\"SNL Season 43\"|\"Epi...</td>\n",
       "      <td>1053632</td>\n",
       "      <td>25561</td>\n",
       "      <td>2294</td>\n",
       "      <td>2757</td>\n",
       "      <td>https://i.ytimg.com/vi/3s1rvMFUweQ/default.jpg</td>\n",
       "      <td>False</td>\n",
       "      <td>False</td>\n",
       "      <td>False</td>\n",
       "      <td>Musical guest Taylor Swift performs â¦Ready f...</td>\n",
       "      <td>GB</td>\n",
       "    </tr>\n",
       "    <tr>\n",
       "      <th>2</th>\n",
       "      <td>n1WpP7iowLc</td>\n",
       "      <td>17.14.11</td>\n",
       "      <td>Eminem - Walk On Water (Audio) ft. BeyoncÃ©</td>\n",
       "      <td>EminemVEVO</td>\n",
       "      <td>10</td>\n",
       "      <td>2017-11-10T17:00:03.000Z</td>\n",
       "      <td>Eminem|\"Walk\"|\"On\"|\"Water\"|\"Aftermath/Shady/In...</td>\n",
       "      <td>17158579</td>\n",
       "      <td>787420</td>\n",
       "      <td>43420</td>\n",
       "      <td>125882</td>\n",
       "      <td>https://i.ytimg.com/vi/n1WpP7iowLc/default.jpg</td>\n",
       "      <td>False</td>\n",
       "      <td>False</td>\n",
       "      <td>False</td>\n",
       "      <td>Eminem's new track Walk on Water ft. BeyoncÃ© ...</td>\n",
       "      <td>GB</td>\n",
       "    </tr>\n",
       "    <tr>\n",
       "      <th>3</th>\n",
       "      <td>PUTEiSjKwJU</td>\n",
       "      <td>17.14.11</td>\n",
       "      <td>Goals from Salford City vs Class of 92 and Fri...</td>\n",
       "      <td>Salford City Football Club</td>\n",
       "      <td>17</td>\n",
       "      <td>2017-11-13T02:30:38.000Z</td>\n",
       "      <td>Salford City FC|\"Salford City\"|\"Salford\"|\"Clas...</td>\n",
       "      <td>27833</td>\n",
       "      <td>193</td>\n",
       "      <td>12</td>\n",
       "      <td>37</td>\n",
       "      <td>https://i.ytimg.com/vi/PUTEiSjKwJU/default.jpg</td>\n",
       "      <td>False</td>\n",
       "      <td>False</td>\n",
       "      <td>False</td>\n",
       "      <td>Salford drew 4-4 against the Class of 92 and F...</td>\n",
       "      <td>GB</td>\n",
       "    </tr>\n",
       "    <tr>\n",
       "      <th>4</th>\n",
       "      <td>rHwDegptbI4</td>\n",
       "      <td>17.14.11</td>\n",
       "      <td>Dashcam captures truck's near miss with child ...</td>\n",
       "      <td>Cute Girl Videos</td>\n",
       "      <td>25</td>\n",
       "      <td>2017-11-13T01:45:13.000Z</td>\n",
       "      <td>[none]</td>\n",
       "      <td>9815</td>\n",
       "      <td>30</td>\n",
       "      <td>2</td>\n",
       "      <td>30</td>\n",
       "      <td>https://i.ytimg.com/vi/rHwDegptbI4/default.jpg</td>\n",
       "      <td>False</td>\n",
       "      <td>False</td>\n",
       "      <td>False</td>\n",
       "      <td>Dashcam captures truck's near miss with child ...</td>\n",
       "      <td>GB</td>\n",
       "    </tr>\n",
       "  </tbody>\n",
       "</table>\n",
       "</div>"
      ],
      "text/plain": [
       "      video_id trending_date  \\\n",
       "0  Jw1Y-zhQURU      17.14.11   \n",
       "1  3s1rvMFUweQ      17.14.11   \n",
       "2  n1WpP7iowLc      17.14.11   \n",
       "3  PUTEiSjKwJU      17.14.11   \n",
       "4  rHwDegptbI4      17.14.11   \n",
       "\n",
       "                                               title  \\\n",
       "0      John Lewis Christmas Ad 2017 - #MozTheMonster   \n",
       "1        Taylor Swift: â¦Ready for It? (Live) - SNL   \n",
       "2        Eminem - Walk On Water (Audio) ft. BeyoncÃ©   \n",
       "3  Goals from Salford City vs Class of 92 and Fri...   \n",
       "4  Dashcam captures truck's near miss with child ...   \n",
       "\n",
       "                channel_title  category_id              publish_time  \\\n",
       "0                  John Lewis           26  2017-11-10T07:38:29.000Z   \n",
       "1         Saturday Night Live           24  2017-11-12T06:24:44.000Z   \n",
       "2                  EminemVEVO           10  2017-11-10T17:00:03.000Z   \n",
       "3  Salford City Football Club           17  2017-11-13T02:30:38.000Z   \n",
       "4            Cute Girl Videos           25  2017-11-13T01:45:13.000Z   \n",
       "\n",
       "                                                tags     views   likes  \\\n",
       "0  christmas|\"john lewis christmas\"|\"john lewis\"|...   7224515   55681   \n",
       "1  SNL|\"Saturday Night Live\"|\"SNL Season 43\"|\"Epi...   1053632   25561   \n",
       "2  Eminem|\"Walk\"|\"On\"|\"Water\"|\"Aftermath/Shady/In...  17158579  787420   \n",
       "3  Salford City FC|\"Salford City\"|\"Salford\"|\"Clas...     27833     193   \n",
       "4                                             [none]      9815      30   \n",
       "\n",
       "   dislikes  comment_count                                  thumbnail_link  \\\n",
       "0     10247           9479  https://i.ytimg.com/vi/Jw1Y-zhQURU/default.jpg   \n",
       "1      2294           2757  https://i.ytimg.com/vi/3s1rvMFUweQ/default.jpg   \n",
       "2     43420         125882  https://i.ytimg.com/vi/n1WpP7iowLc/default.jpg   \n",
       "3        12             37  https://i.ytimg.com/vi/PUTEiSjKwJU/default.jpg   \n",
       "4         2             30  https://i.ytimg.com/vi/rHwDegptbI4/default.jpg   \n",
       "\n",
       "   comments_disabled  ratings_disabled  video_error_or_removed  \\\n",
       "0              False             False                   False   \n",
       "1              False             False                   False   \n",
       "2              False             False                   False   \n",
       "3              False             False                   False   \n",
       "4              False             False                   False   \n",
       "\n",
       "                                         description country  \n",
       "0  Click here to continue the story and make your...      GB  \n",
       "1  Musical guest Taylor Swift performs â¦Ready f...      GB  \n",
       "2  Eminem's new track Walk on Water ft. BeyoncÃ© ...      GB  \n",
       "3  Salford drew 4-4 against the Class of 92 and F...      GB  \n",
       "4  Dashcam captures truck's near miss with child ...      GB  "
      ]
     },
     "execution_count": 4,
     "metadata": {},
     "output_type": "execute_result"
    }
   ],
   "source": [
    "all_dfs=[]\n",
    "for i in all_csv:\n",
    "    df=pd.read_csv(i,index_col=None ,encoding='ISO-8859-1')\n",
    "    df['country']=i[0:2] \n",
    "    all_dfs.append(df)\n",
    "all_dfs[0].head()"
   ]
  },
  {
   "cell_type": "code",
   "execution_count": 5,
   "id": "9fd4ecf8",
   "metadata": {
    "execution": {
     "iopub.execute_input": "2022-09-08T21:39:31.650077Z",
     "iopub.status.busy": "2022-09-08T21:39:31.649063Z",
     "iopub.status.idle": "2022-09-08T21:39:31.836951Z",
     "shell.execute_reply": "2022-09-08T21:39:31.835702Z"
    },
    "papermill": {
     "duration": 0.19606,
     "end_time": "2022-09-08T21:39:31.839438",
     "exception": false,
     "start_time": "2022-09-08T21:39:31.643378",
     "status": "completed"
    },
    "tags": []
   },
   "outputs": [
    {
     "data": {
      "text/plain": [
       "0    17.14.11\n",
       "1    17.14.11\n",
       "2    17.14.11\n",
       "3    17.14.11\n",
       "4    17.14.11\n",
       "Name: trending_date, dtype: object"
      ]
     },
     "execution_count": 5,
     "metadata": {},
     "output_type": "execute_result"
    }
   ],
   "source": [
    "data_frame=pd.DataFrame()\n",
    "data_frame=pd.concat(all_dfs)\n",
    "data_frame['trending_date'].head()"
   ]
  },
  {
   "cell_type": "code",
   "execution_count": 6,
   "id": "13341329",
   "metadata": {
    "execution": {
     "iopub.execute_input": "2022-09-08T21:39:31.850908Z",
     "iopub.status.busy": "2022-09-08T21:39:31.850441Z",
     "iopub.status.idle": "2022-09-08T21:39:31.891363Z",
     "shell.execute_reply": "2022-09-08T21:39:31.890409Z"
    },
    "papermill": {
     "duration": 0.049284,
     "end_time": "2022-09-08T21:39:31.893604",
     "exception": false,
     "start_time": "2022-09-08T21:39:31.844320",
     "status": "completed"
    },
    "tags": []
   },
   "outputs": [
    {
     "data": {
      "text/plain": [
       "count    375942.000000\n",
       "mean       1020.232302\n",
       "std           7.132413\n",
       "min        1001.000000\n",
       "25%        1017.000000\n",
       "50%        1023.000000\n",
       "75%        1024.000000\n",
       "max        1044.000000\n",
       "Name: category_id, dtype: float64"
      ]
     },
     "execution_count": 6,
     "metadata": {},
     "output_type": "execute_result"
    }
   ],
   "source": [
    "data_frame['category_id']=data_frame['category_id']+1000\n",
    "data_frame['category_id'].describe()"
   ]
  },
  {
   "cell_type": "markdown",
   "id": "b1d874af",
   "metadata": {
    "papermill": {
     "duration": 0.004529,
     "end_time": "2022-09-08T21:39:31.902994",
     "exception": false,
     "start_time": "2022-09-08T21:39:31.898465",
     "status": "completed"
    },
    "tags": []
   },
   "source": []
  },
  {
   "cell_type": "code",
   "execution_count": 7,
   "id": "c22d88b6",
   "metadata": {
    "execution": {
     "iopub.execute_input": "2022-09-08T21:39:31.914813Z",
     "iopub.status.busy": "2022-09-08T21:39:31.914021Z",
     "iopub.status.idle": "2022-09-08T21:39:31.948880Z",
     "shell.execute_reply": "2022-09-08T21:39:31.947713Z"
    },
    "papermill": {
     "duration": 0.043795,
     "end_time": "2022-09-08T21:39:31.951477",
     "exception": false,
     "start_time": "2022-09-08T21:39:31.907682",
     "status": "completed"
    },
    "tags": []
   },
   "outputs": [
    {
     "data": {
      "text/plain": [
       "dtype('O')"
      ]
     },
     "execution_count": 7,
     "metadata": {},
     "output_type": "execute_result"
    }
   ],
   "source": [
    "data_frame['video_id']= data_frame['video_id'].astype('str')\n",
    "data_frame['trending_date'].dtype"
   ]
  },
  {
   "cell_type": "code",
   "execution_count": 8,
   "id": "6b0f428c",
   "metadata": {
    "execution": {
     "iopub.execute_input": "2022-09-08T21:39:31.963022Z",
     "iopub.status.busy": "2022-09-08T21:39:31.962590Z",
     "iopub.status.idle": "2022-09-08T21:39:31.973793Z",
     "shell.execute_reply": "2022-09-08T21:39:31.972756Z"
    },
    "papermill": {
     "duration": 0.019817,
     "end_time": "2022-09-08T21:39:31.976357",
     "exception": false,
     "start_time": "2022-09-08T21:39:31.956540",
     "status": "completed"
    },
    "tags": []
   },
   "outputs": [
    {
     "data": {
      "text/plain": [
       "0    17.14.11\n",
       "1    17.14.11\n",
       "2    17.14.11\n",
       "3    17.14.11\n",
       "4    17.14.11\n",
       "Name: trending_date, dtype: object"
      ]
     },
     "execution_count": 8,
     "metadata": {},
     "output_type": "execute_result"
    }
   ],
   "source": [
    "data_frame['trending_date'].head()"
   ]
  },
  {
   "cell_type": "code",
   "execution_count": 9,
   "id": "bd07a0e4",
   "metadata": {
    "execution": {
     "iopub.execute_input": "2022-09-08T21:39:31.988961Z",
     "iopub.status.busy": "2022-09-08T21:39:31.987970Z",
     "iopub.status.idle": "2022-09-08T21:39:33.942768Z",
     "shell.execute_reply": "2022-09-08T21:39:33.941568Z"
    },
    "papermill": {
     "duration": 1.96354,
     "end_time": "2022-09-08T21:39:33.945467",
     "exception": false,
     "start_time": "2022-09-08T21:39:31.981927",
     "status": "completed"
    },
    "tags": []
   },
   "outputs": [
    {
     "data": {
      "text/html": [
       "<div>\n",
       "<style scoped>\n",
       "    .dataframe tbody tr th:only-of-type {\n",
       "        vertical-align: middle;\n",
       "    }\n",
       "\n",
       "    .dataframe tbody tr th {\n",
       "        vertical-align: top;\n",
       "    }\n",
       "\n",
       "    .dataframe thead th {\n",
       "        text-align: right;\n",
       "    }\n",
       "</style>\n",
       "<table border=\"1\" class=\"dataframe\">\n",
       "  <thead>\n",
       "    <tr style=\"text-align: right;\">\n",
       "      <th></th>\n",
       "      <th>video_id</th>\n",
       "      <th>title</th>\n",
       "      <th>channel_title</th>\n",
       "      <th>category_id</th>\n",
       "      <th>publish_time</th>\n",
       "      <th>tags</th>\n",
       "      <th>views</th>\n",
       "      <th>likes</th>\n",
       "      <th>dislikes</th>\n",
       "      <th>comment_count</th>\n",
       "      <th>thumbnail_link</th>\n",
       "      <th>comments_disabled</th>\n",
       "      <th>ratings_disabled</th>\n",
       "      <th>video_error_or_removed</th>\n",
       "      <th>description</th>\n",
       "      <th>country</th>\n",
       "      <th>trending_date</th>\n",
       "    </tr>\n",
       "  </thead>\n",
       "  <tbody>\n",
       "    <tr>\n",
       "      <th>0</th>\n",
       "      <td>Jw1Y-zhQURU</td>\n",
       "      <td>John Lewis Christmas Ad 2017 - #MozTheMonster</td>\n",
       "      <td>John Lewis</td>\n",
       "      <td>1026</td>\n",
       "      <td>2017-11-10T07:38:29.000Z</td>\n",
       "      <td>christmas|\"john lewis christmas\"|\"john lewis\"|...</td>\n",
       "      <td>7224515</td>\n",
       "      <td>55681</td>\n",
       "      <td>10247</td>\n",
       "      <td>9479</td>\n",
       "      <td>https://i.ytimg.com/vi/Jw1Y-zhQURU/default.jpg</td>\n",
       "      <td>False</td>\n",
       "      <td>False</td>\n",
       "      <td>False</td>\n",
       "      <td>Click here to continue the story and make your...</td>\n",
       "      <td>GB</td>\n",
       "      <td>2017-11-14</td>\n",
       "    </tr>\n",
       "    <tr>\n",
       "      <th>1</th>\n",
       "      <td>3s1rvMFUweQ</td>\n",
       "      <td>Taylor Swift: â¦Ready for It? (Live) - SNL</td>\n",
       "      <td>Saturday Night Live</td>\n",
       "      <td>1024</td>\n",
       "      <td>2017-11-12T06:24:44.000Z</td>\n",
       "      <td>SNL|\"Saturday Night Live\"|\"SNL Season 43\"|\"Epi...</td>\n",
       "      <td>1053632</td>\n",
       "      <td>25561</td>\n",
       "      <td>2294</td>\n",
       "      <td>2757</td>\n",
       "      <td>https://i.ytimg.com/vi/3s1rvMFUweQ/default.jpg</td>\n",
       "      <td>False</td>\n",
       "      <td>False</td>\n",
       "      <td>False</td>\n",
       "      <td>Musical guest Taylor Swift performs â¦Ready f...</td>\n",
       "      <td>GB</td>\n",
       "      <td>2017-11-14</td>\n",
       "    </tr>\n",
       "    <tr>\n",
       "      <th>2</th>\n",
       "      <td>n1WpP7iowLc</td>\n",
       "      <td>Eminem - Walk On Water (Audio) ft. BeyoncÃ©</td>\n",
       "      <td>EminemVEVO</td>\n",
       "      <td>1010</td>\n",
       "      <td>2017-11-10T17:00:03.000Z</td>\n",
       "      <td>Eminem|\"Walk\"|\"On\"|\"Water\"|\"Aftermath/Shady/In...</td>\n",
       "      <td>17158579</td>\n",
       "      <td>787420</td>\n",
       "      <td>43420</td>\n",
       "      <td>125882</td>\n",
       "      <td>https://i.ytimg.com/vi/n1WpP7iowLc/default.jpg</td>\n",
       "      <td>False</td>\n",
       "      <td>False</td>\n",
       "      <td>False</td>\n",
       "      <td>Eminem's new track Walk on Water ft. BeyoncÃ© ...</td>\n",
       "      <td>GB</td>\n",
       "      <td>2017-11-14</td>\n",
       "    </tr>\n",
       "    <tr>\n",
       "      <th>3</th>\n",
       "      <td>PUTEiSjKwJU</td>\n",
       "      <td>Goals from Salford City vs Class of 92 and Fri...</td>\n",
       "      <td>Salford City Football Club</td>\n",
       "      <td>1017</td>\n",
       "      <td>2017-11-13T02:30:38.000Z</td>\n",
       "      <td>Salford City FC|\"Salford City\"|\"Salford\"|\"Clas...</td>\n",
       "      <td>27833</td>\n",
       "      <td>193</td>\n",
       "      <td>12</td>\n",
       "      <td>37</td>\n",
       "      <td>https://i.ytimg.com/vi/PUTEiSjKwJU/default.jpg</td>\n",
       "      <td>False</td>\n",
       "      <td>False</td>\n",
       "      <td>False</td>\n",
       "      <td>Salford drew 4-4 against the Class of 92 and F...</td>\n",
       "      <td>GB</td>\n",
       "      <td>2017-11-14</td>\n",
       "    </tr>\n",
       "    <tr>\n",
       "      <th>4</th>\n",
       "      <td>rHwDegptbI4</td>\n",
       "      <td>Dashcam captures truck's near miss with child ...</td>\n",
       "      <td>Cute Girl Videos</td>\n",
       "      <td>1025</td>\n",
       "      <td>2017-11-13T01:45:13.000Z</td>\n",
       "      <td>[none]</td>\n",
       "      <td>9815</td>\n",
       "      <td>30</td>\n",
       "      <td>2</td>\n",
       "      <td>30</td>\n",
       "      <td>https://i.ytimg.com/vi/rHwDegptbI4/default.jpg</td>\n",
       "      <td>False</td>\n",
       "      <td>False</td>\n",
       "      <td>False</td>\n",
       "      <td>Dashcam captures truck's near miss with child ...</td>\n",
       "      <td>GB</td>\n",
       "      <td>2017-11-14</td>\n",
       "    </tr>\n",
       "  </tbody>\n",
       "</table>\n",
       "</div>"
      ],
      "text/plain": [
       "      video_id                                              title  \\\n",
       "0  Jw1Y-zhQURU      John Lewis Christmas Ad 2017 - #MozTheMonster   \n",
       "1  3s1rvMFUweQ        Taylor Swift: â¦Ready for It? (Live) - SNL   \n",
       "2  n1WpP7iowLc        Eminem - Walk On Water (Audio) ft. BeyoncÃ©   \n",
       "3  PUTEiSjKwJU  Goals from Salford City vs Class of 92 and Fri...   \n",
       "4  rHwDegptbI4  Dashcam captures truck's near miss with child ...   \n",
       "\n",
       "                channel_title  category_id              publish_time  \\\n",
       "0                  John Lewis         1026  2017-11-10T07:38:29.000Z   \n",
       "1         Saturday Night Live         1024  2017-11-12T06:24:44.000Z   \n",
       "2                  EminemVEVO         1010  2017-11-10T17:00:03.000Z   \n",
       "3  Salford City Football Club         1017  2017-11-13T02:30:38.000Z   \n",
       "4            Cute Girl Videos         1025  2017-11-13T01:45:13.000Z   \n",
       "\n",
       "                                                tags     views   likes  \\\n",
       "0  christmas|\"john lewis christmas\"|\"john lewis\"|...   7224515   55681   \n",
       "1  SNL|\"Saturday Night Live\"|\"SNL Season 43\"|\"Epi...   1053632   25561   \n",
       "2  Eminem|\"Walk\"|\"On\"|\"Water\"|\"Aftermath/Shady/In...  17158579  787420   \n",
       "3  Salford City FC|\"Salford City\"|\"Salford\"|\"Clas...     27833     193   \n",
       "4                                             [none]      9815      30   \n",
       "\n",
       "   dislikes  comment_count                                  thumbnail_link  \\\n",
       "0     10247           9479  https://i.ytimg.com/vi/Jw1Y-zhQURU/default.jpg   \n",
       "1      2294           2757  https://i.ytimg.com/vi/3s1rvMFUweQ/default.jpg   \n",
       "2     43420         125882  https://i.ytimg.com/vi/n1WpP7iowLc/default.jpg   \n",
       "3        12             37  https://i.ytimg.com/vi/PUTEiSjKwJU/default.jpg   \n",
       "4         2             30  https://i.ytimg.com/vi/rHwDegptbI4/default.jpg   \n",
       "\n",
       "   comments_disabled  ratings_disabled  video_error_or_removed  \\\n",
       "0              False             False                   False   \n",
       "1              False             False                   False   \n",
       "2              False             False                   False   \n",
       "3              False             False                   False   \n",
       "4              False             False                   False   \n",
       "\n",
       "                                         description country trending_date  \n",
       "0  Click here to continue the story and make your...      GB    2017-11-14  \n",
       "1  Musical guest Taylor Swift performs â¦Ready f...      GB    2017-11-14  \n",
       "2  Eminem's new track Walk on Water ft. BeyoncÃ© ...      GB    2017-11-14  \n",
       "3  Salford drew 4-4 against the Class of 92 and F...      GB    2017-11-14  \n",
       "4  Dashcam captures truck's near miss with child ...      GB    2017-11-14  "
      ]
     },
     "execution_count": 9,
     "metadata": {},
     "output_type": "execute_result"
    }
   ],
   "source": [
    "data_frame['trending_date']=data_frame['trending_date'].astype('str')\n",
    "date=(data_frame['trending_date'].str.split('.'))\n",
    "data_frame['year']=date.str[0].astype(int)\n",
    "data_frame['year']=data_frame['year']+2000\n",
    "data_frame['day']=date.str[1].astype(int)\n",
    "data_frame['month']=date.str[2].astype(int)\n",
    "del data_frame['trending_date']\n",
    "data_frame['trending_date']= pd.to_datetime(data_frame[['year','month','day']],format=\"%Y/%m/%d\")\n",
    "del data_frame['year']\n",
    "del data_frame['month']\n",
    "del data_frame['day']\n",
    "data_frame.head()"
   ]
  },
  {
   "cell_type": "code",
   "execution_count": 10,
   "id": "cab6e68c",
   "metadata": {
    "execution": {
     "iopub.execute_input": "2022-09-08T21:39:33.957948Z",
     "iopub.status.busy": "2022-09-08T21:39:33.957506Z",
     "iopub.status.idle": "2022-09-08T21:39:33.966914Z",
     "shell.execute_reply": "2022-09-08T21:39:33.965694Z"
    },
    "papermill": {
     "duration": 0.018272,
     "end_time": "2022-09-08T21:39:33.969151",
     "exception": false,
     "start_time": "2022-09-08T21:39:33.950879",
     "status": "completed"
    },
    "tags": []
   },
   "outputs": [
    {
     "data": {
      "text/plain": [
       "0   2017-11-14\n",
       "1   2017-11-14\n",
       "2   2017-11-14\n",
       "3   2017-11-14\n",
       "4   2017-11-14\n",
       "Name: trending_date, dtype: datetime64[ns]"
      ]
     },
     "execution_count": 10,
     "metadata": {},
     "output_type": "execute_result"
    }
   ],
   "source": [
    "data_frame['trending_date'].head()"
   ]
  },
  {
   "cell_type": "code",
   "execution_count": 11,
   "id": "bdb22cdb",
   "metadata": {
    "execution": {
     "iopub.execute_input": "2022-09-08T21:39:33.982212Z",
     "iopub.status.busy": "2022-09-08T21:39:33.981288Z",
     "iopub.status.idle": "2022-09-08T21:39:34.175628Z",
     "shell.execute_reply": "2022-09-08T21:39:34.174587Z"
    },
    "papermill": {
     "duration": 0.203783,
     "end_time": "2022-09-08T21:39:34.178437",
     "exception": false,
     "start_time": "2022-09-08T21:39:33.974654",
     "status": "completed"
    },
    "tags": []
   },
   "outputs": [
    {
     "data": {
      "text/plain": [
       "0    False\n",
       "1    False\n",
       "2    False\n",
       "3    False\n",
       "4    False\n",
       "Name: comments_disabled, dtype: category\n",
       "Categories (2, object): [False, True]"
      ]
     },
     "execution_count": 11,
     "metadata": {},
     "output_type": "execute_result"
    }
   ],
   "source": [
    "#data_frame[['comments_disabled','ratings_disabled','video_error_or_removed']].dtypes\n",
    "data_frame[['comments_disabled','ratings_disabled','video_error_or_removed']]=data_frame[['comments_disabled','ratings_disabled','video_error_or_removed']].astype('category')\n",
    "data_frame['comments_disabled'].head()"
   ]
  },
  {
   "cell_type": "code",
   "execution_count": 12,
   "id": "849a8ec4",
   "metadata": {
    "execution": {
     "iopub.execute_input": "2022-09-08T21:39:34.191745Z",
     "iopub.status.busy": "2022-09-08T21:39:34.190656Z",
     "iopub.status.idle": "2022-09-08T21:39:34.198127Z",
     "shell.execute_reply": "2022-09-08T21:39:34.197240Z"
    },
    "papermill": {
     "duration": 0.016283,
     "end_time": "2022-09-08T21:39:34.200300",
     "exception": false,
     "start_time": "2022-09-08T21:39:34.184017",
     "status": "completed"
    },
    "tags": []
   },
   "outputs": [
    {
     "data": {
      "text/plain": [
       "dtype('O')"
      ]
     },
     "execution_count": 12,
     "metadata": {},
     "output_type": "execute_result"
    }
   ],
   "source": [
    "data_frame['description'].dtypes"
   ]
  }
 ],
 "metadata": {
  "kernelspec": {
   "display_name": "Python 3",
   "language": "python",
   "name": "python3"
  },
  "language_info": {
   "codemirror_mode": {
    "name": "ipython",
    "version": 3
   },
   "file_extension": ".py",
   "mimetype": "text/x-python",
   "name": "python",
   "nbconvert_exporter": "python",
   "pygments_lexer": "ipython3",
   "version": "3.7.12"
  },
  "papermill": {
   "default_parameters": {},
   "duration": 28.713842,
   "end_time": "2022-09-08T21:39:35.328352",
   "environment_variables": {},
   "exception": null,
   "input_path": "__notebook__.ipynb",
   "output_path": "__notebook__.ipynb",
   "parameters": {},
   "start_time": "2022-09-08T21:39:06.614510",
   "version": "2.3.4"
  }
 },
 "nbformat": 4,
 "nbformat_minor": 5
}
